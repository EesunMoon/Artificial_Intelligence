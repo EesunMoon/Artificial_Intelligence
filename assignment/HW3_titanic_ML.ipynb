{
 "cells": [
  {
   "cell_type": "code",
   "execution_count": 1,
   "id": "af9ff29f",
   "metadata": {
    "_cell_guid": "b1076dfc-b9ad-4769-8c92-a6c4dae69d19",
    "_uuid": "8f2839f25d086af736a60e9eeb907d3b93b6e0e5",
    "execution": {
     "iopub.execute_input": "2021-11-09T18:10:17.611463Z",
     "iopub.status.busy": "2021-11-09T18:10:17.609966Z",
     "iopub.status.idle": "2021-11-09T18:10:17.621813Z",
     "shell.execute_reply": "2021-11-09T18:10:17.622383Z",
     "shell.execute_reply.started": "2021-11-09T17:37:21.268176Z"
    },
    "papermill": {
     "duration": 0.036711,
     "end_time": "2021-11-09T18:10:17.622646",
     "exception": false,
     "start_time": "2021-11-09T18:10:17.585935",
     "status": "completed"
    },
    "tags": []
   },
   "outputs": [
    {
     "name": "stdout",
     "output_type": "stream",
     "text": [
      "/kaggle/input/titanic/train.csv\n",
      "/kaggle/input/titanic/test.csv\n",
      "/kaggle/input/titanic/gender_submission.csv\n"
     ]
    }
   ],
   "source": [
    "# This Python 3 environment comes with many helpful analytics libraries installed\n",
    "# It is defined by the kaggle/python Docker image: https://github.com/kaggle/docker-python\n",
    "# For example, here's several helpful packages to load\n",
    "\n",
    "import numpy as np # linear algebra\n",
    "import pandas as pd # data processing, CSV file I/O (e.g. pd.read_csv)\n",
    "\n",
    "# Input data files are available in the read-only \"../input/\" directory\n",
    "# For example, running this (by clicking run or pressing Shift+Enter) will list all files under the input directory\n",
    "\n",
    "import os\n",
    "for dirname, _, filenames in os.walk('/kaggle/input'):\n",
    "    for filename in filenames:\n",
    "        print(os.path.join(dirname, filename))\n",
    "\n",
    "# You can write up to 20GB to the current directory (/kaggle/working/) that gets preserved as output when you create a version using \"Save & Run All\" \n",
    "# You can also write temporary files to /kaggle/temp/, but they won't be saved outside of the current session"
   ]
  },
  {
   "cell_type": "code",
   "execution_count": 2,
   "id": "82d57a58",
   "metadata": {
    "execution": {
     "iopub.execute_input": "2021-11-09T18:10:17.662891Z",
     "iopub.status.busy": "2021-11-09T18:10:17.662293Z",
     "iopub.status.idle": "2021-11-09T18:10:19.019595Z",
     "shell.execute_reply": "2021-11-09T18:10:19.020206Z",
     "shell.execute_reply.started": "2021-11-09T17:37:21.297241Z"
    },
    "papermill": {
     "duration": 1.379014,
     "end_time": "2021-11-09T18:10:19.020384",
     "exception": false,
     "start_time": "2021-11-09T18:10:17.641370",
     "status": "completed"
    },
    "tags": []
   },
   "outputs": [],
   "source": [
    "# import\n",
    "import torch\n",
    "import torch.nn as nn\n",
    "from torch import optim\n",
    "import random"
   ]
  },
  {
   "cell_type": "code",
   "execution_count": 3,
   "id": "eb69005b",
   "metadata": {
    "execution": {
     "iopub.execute_input": "2021-11-09T18:10:19.058846Z",
     "iopub.status.busy": "2021-11-09T18:10:19.058041Z",
     "iopub.status.idle": "2021-11-09T18:10:19.112136Z",
     "shell.execute_reply": "2021-11-09T18:10:19.111640Z",
     "shell.execute_reply.started": "2021-11-09T17:37:22.593078Z"
    },
    "papermill": {
     "duration": 0.073786,
     "end_time": "2021-11-09T18:10:19.112260",
     "exception": false,
     "start_time": "2021-11-09T18:10:19.038474",
     "status": "completed"
    },
    "tags": []
   },
   "outputs": [],
   "source": [
    "# GPU 사용 여부\n",
    "device = torch.device(\"cuda\" if torch.cuda.is_available() else \"cpu\")\n",
    "\n",
    "random.seed(777)\n",
    "torch.manual_seed(777)\n",
    "if device == 'cuda':\n",
    "    torch.cuda.manual_seed_all(777)"
   ]
  },
  {
   "cell_type": "code",
   "execution_count": 4,
   "id": "a7c39c5d",
   "metadata": {
    "execution": {
     "iopub.execute_input": "2021-11-09T18:10:19.151271Z",
     "iopub.status.busy": "2021-11-09T18:10:19.149522Z",
     "iopub.status.idle": "2021-11-09T18:10:19.183611Z",
     "shell.execute_reply": "2021-11-09T18:10:19.183142Z",
     "shell.execute_reply.started": "2021-11-09T17:37:22.653103Z"
    },
    "papermill": {
     "duration": 0.053767,
     "end_time": "2021-11-09T18:10:19.183746",
     "exception": false,
     "start_time": "2021-11-09T18:10:19.129979",
     "status": "completed"
    },
    "tags": []
   },
   "outputs": [],
   "source": [
    "# data load\n",
    "train_data = pd.read_csv('/kaggle/input/titanic/train.csv')\n",
    "test_data = pd.read_csv('/kaggle/input/titanic/test.csv')\n",
    "submit = pd.read_csv('/kaggle/input/titanic/gender_submission.csv')"
   ]
  },
  {
   "cell_type": "code",
   "execution_count": 5,
   "id": "8b8ef387",
   "metadata": {
    "execution": {
     "iopub.execute_input": "2021-11-09T18:10:19.225959Z",
     "iopub.status.busy": "2021-11-09T18:10:19.225411Z",
     "iopub.status.idle": "2021-11-09T18:10:19.234531Z",
     "shell.execute_reply": "2021-11-09T18:10:19.233371Z",
     "shell.execute_reply.started": "2021-11-09T17:37:22.688139Z"
    },
    "papermill": {
     "duration": 0.033608,
     "end_time": "2021-11-09T18:10:19.234773",
     "exception": false,
     "start_time": "2021-11-09T18:10:19.201165",
     "status": "completed"
    },
    "tags": []
   },
   "outputs": [],
   "source": [
    "# train data의 x, y data split\n",
    "# survived - 예측 할 data (범주형 데이터 - classification)\n",
    "x_data = train_data.drop(['Survived'], axis = 1)\n",
    "y_data = train_data['Survived'].values"
   ]
  },
  {
   "cell_type": "code",
   "execution_count": 6,
   "id": "1ec48c5c",
   "metadata": {
    "execution": {
     "iopub.execute_input": "2021-11-09T18:10:19.309538Z",
     "iopub.status.busy": "2021-11-09T18:10:19.308606Z",
     "iopub.status.idle": "2021-11-09T18:10:19.312399Z",
     "shell.execute_reply": "2021-11-09T18:10:19.310337Z",
     "shell.execute_reply.started": "2021-11-09T17:37:22.703371Z"
    },
    "papermill": {
     "duration": 0.042386,
     "end_time": "2021-11-09T18:10:19.312598",
     "exception": false,
     "start_time": "2021-11-09T18:10:19.270212",
     "status": "completed"
    },
    "tags": []
   },
   "outputs": [
    {
     "name": "stdout",
     "output_type": "stream",
     "text": [
      "(891, 11)\n",
      "(418, 11)\n"
     ]
    }
   ],
   "source": [
    "# total x, test data 개수\n",
    "print(x_data.shape)\n",
    "print(test_data.shape)"
   ]
  },
  {
   "cell_type": "code",
   "execution_count": 7,
   "id": "d468efb7",
   "metadata": {
    "execution": {
     "iopub.execute_input": "2021-11-09T18:10:19.475317Z",
     "iopub.status.busy": "2021-11-09T18:10:19.474621Z",
     "iopub.status.idle": "2021-11-09T18:10:19.478991Z",
     "shell.execute_reply": "2021-11-09T18:10:19.479568Z",
     "shell.execute_reply.started": "2021-11-09T17:37:22.712876Z"
    },
    "papermill": {
     "duration": 0.142126,
     "end_time": "2021-11-09T18:10:19.479768",
     "exception": false,
     "start_time": "2021-11-09T18:10:19.337642",
     "status": "completed"
    },
    "tags": []
   },
   "outputs": [
    {
     "name": "stdout",
     "output_type": "stream",
     "text": [
      "<class 'pandas.core.frame.DataFrame'>\n",
      "RangeIndex: 891 entries, 0 to 890\n",
      "Data columns (total 11 columns):\n",
      " #   Column       Non-Null Count  Dtype  \n",
      "---  ------       --------------  -----  \n",
      " 0   PassengerId  891 non-null    int64  \n",
      " 1   Pclass       891 non-null    int64  \n",
      " 2   Name         891 non-null    object \n",
      " 3   Sex          891 non-null    object \n",
      " 4   Age          714 non-null    float64\n",
      " 5   SibSp        891 non-null    int64  \n",
      " 6   Parch        891 non-null    int64  \n",
      " 7   Ticket       891 non-null    object \n",
      " 8   Fare         891 non-null    float64\n",
      " 9   Cabin        204 non-null    object \n",
      " 10  Embarked     889 non-null    object \n",
      "dtypes: float64(2), int64(4), object(5)\n",
      "memory usage: 76.7+ KB\n",
      "None\n",
      "<class 'pandas.core.frame.DataFrame'>\n",
      "RangeIndex: 418 entries, 0 to 417\n",
      "Data columns (total 11 columns):\n",
      " #   Column       Non-Null Count  Dtype  \n",
      "---  ------       --------------  -----  \n",
      " 0   PassengerId  418 non-null    int64  \n",
      " 1   Pclass       418 non-null    int64  \n",
      " 2   Name         418 non-null    object \n",
      " 3   Sex          418 non-null    object \n",
      " 4   Age          332 non-null    float64\n",
      " 5   SibSp        418 non-null    int64  \n",
      " 6   Parch        418 non-null    int64  \n",
      " 7   Ticket       418 non-null    object \n",
      " 8   Fare         417 non-null    float64\n",
      " 9   Cabin        91 non-null     object \n",
      " 10  Embarked     418 non-null    object \n",
      "dtypes: float64(2), int64(4), object(5)\n",
      "memory usage: 36.0+ KB\n",
      "None\n"
     ]
    }
   ],
   "source": [
    "# data 확인\n",
    "print(x_data.info())\n",
    "print(test_data.info())"
   ]
  },
  {
   "cell_type": "code",
   "execution_count": 8,
   "id": "57d67e5b",
   "metadata": {
    "execution": {
     "iopub.execute_input": "2021-11-09T18:10:19.523243Z",
     "iopub.status.busy": "2021-11-09T18:10:19.522581Z",
     "iopub.status.idle": "2021-11-09T18:10:19.525404Z",
     "shell.execute_reply": "2021-11-09T18:10:19.525860Z",
     "shell.execute_reply.started": "2021-11-09T17:37:22.829067Z"
    },
    "papermill": {
     "duration": 0.025598,
     "end_time": "2021-11-09T18:10:19.525983",
     "exception": false,
     "start_time": "2021-11-09T18:10:19.500385",
     "status": "completed"
    },
    "tags": []
   },
   "outputs": [
    {
     "name": "stdout",
     "output_type": "stream",
     "text": [
      "Index(['PassengerId', 'Pclass', 'Name', 'Sex', 'Age', 'SibSp', 'Parch',\n",
      "       'Ticket', 'Fare', 'Cabin', 'Embarked'],\n",
      "      dtype='object')\n"
     ]
    }
   ],
   "source": [
    "print(x_data.columns)\n",
    "# Survived : 0 = No, 1 = Yes -> int\n",
    "# Pclass(Ticket class) : 1 = 1st, 2 = 2nd, 3 = 3rd (1에 가까울 수록 높음) -> int\n",
    "# Sex : 'male', 'female' -> object :: 범주형으로 전처리 필요\n",
    "# Age -> float :: Nan값 존재 => train/test data 모두 전처리 필요\n",
    "# SibSp(배우자나 형제 자매 명 수의 총 합) -> int\n",
    "# Parch(부모 자식 명 수의 총 합) -> int :: SibSp와 Parch를 사용해서 함께 탑승한 총 가족수 추가\n",
    "# Ticket(Ticket number) -> object :: 학습/예측 시 불필요한 데이터 drop하기\n",
    "# Fare -> float :: test data에 Nan값 존재 => test data 전처리 필요\n",
    "# Cabin -> object :: Nan값 존재 => train/test data 모두 전처리 필요 but 학습/예측 시 불필요한 데이터 drop하기\n",
    "# Embarked(승선항) : C = Cherbourg, Q = Queenstown, S = Southampton -> object :: train data에 Nan값 존재 => 전처리필요"
   ]
  },
  {
   "cell_type": "code",
   "execution_count": 9,
   "id": "5ba88f15",
   "metadata": {
    "execution": {
     "iopub.execute_input": "2021-11-09T18:10:19.569315Z",
     "iopub.status.busy": "2021-11-09T18:10:19.568607Z",
     "iopub.status.idle": "2021-11-09T18:10:19.571542Z",
     "shell.execute_reply": "2021-11-09T18:10:19.572118Z",
     "shell.execute_reply.started": "2021-11-09T17:37:22.838151Z"
    },
    "papermill": {
     "duration": 0.028429,
     "end_time": "2021-11-09T18:10:19.572291",
     "exception": false,
     "start_time": "2021-11-09T18:10:19.543862",
     "status": "completed"
    },
    "tags": []
   },
   "outputs": [
    {
     "name": "stdout",
     "output_type": "stream",
     "text": [
      "[22.   38.   26.   35.     nan 54.    2.   27.   14.    4.   58.   20.\n",
      " 39.   55.   31.   34.   15.   28.    8.   19.   40.   66.   42.   21.\n",
      " 18.    3.    7.   49.   29.   65.   28.5   5.   11.   45.   17.   32.\n",
      " 16.   25.    0.83 30.   33.   23.   24.   46.   59.   71.   37.   47.\n",
      " 14.5  70.5  32.5  12.    9.   36.5  51.   55.5  40.5  44.    1.   61.\n",
      " 56.   50.   36.   45.5  20.5  62.   41.   52.   63.   23.5   0.92 43.\n",
      " 60.   10.   64.   13.   48.    0.75 53.   57.   80.   70.   24.5   6.\n",
      "  0.67 30.5   0.42 34.5  74.  ]\n",
      "['S' 'C' 'Q' nan]\n"
     ]
    }
   ],
   "source": [
    "# Age\n",
    "print(x_data['Age'].unique())\n",
    "\n",
    "# Embarked\n",
    "print(x_data['Embarked'].unique())"
   ]
  },
  {
   "cell_type": "code",
   "execution_count": 10,
   "id": "7b69a4aa",
   "metadata": {
    "execution": {
     "iopub.execute_input": "2021-11-09T18:10:19.636809Z",
     "iopub.status.busy": "2021-11-09T18:10:19.635810Z",
     "iopub.status.idle": "2021-11-09T18:10:19.660523Z",
     "shell.execute_reply": "2021-11-09T18:10:19.660977Z",
     "shell.execute_reply.started": "2021-11-09T17:37:22.856112Z"
    },
    "papermill": {
     "duration": 0.068589,
     "end_time": "2021-11-09T18:10:19.661107",
     "exception": false,
     "start_time": "2021-11-09T18:10:19.592518",
     "status": "completed"
    },
    "tags": []
   },
   "outputs": [],
   "source": [
    "# data preprocessing\n",
    "## 1) Nan값 채우기\n",
    "### Age -> 나이별로 평균값으로 채우기\n",
    "### Fare -> Pclass로 group화 해서 중간값으로 채우기\n",
    "### Embarked -> 최빈값으로 넣어주기\n",
    "x_data[\"Age\"].fillna(x_data.groupby(\"Sex\")[\"Age\"].transform(\"mean\"), inplace=True)\n",
    "test_data[\"Age\"].fillna(test_data.groupby(\"Sex\")[\"Age\"].transform(\"mean\"), inplace=True)\n",
    "test_data[\"Fare\"].fillna(test_data.groupby(\"Pclass\")[\"Fare\"].transform(\"median\"), inplace=True)\n",
    "x_data['Embarked'].fillna(x_data['Embarked'].mode()[0], inplace=True)\n",
    "\n",
    "## 2) Object 데이터 숫자로 바꿔주기\n",
    "### Sex\n",
    "sex_map = {\"male\": 0, \"female\": 1}\n",
    "x_data['Sex'] = x_data['Sex'].map(sex_map)\n",
    "test_data['Sex'] = test_data['Sex'].map(sex_map)\n",
    "### Embarked\n",
    "embarked_map = {'S':0, 'C':1, 'Q':2}\n",
    "x_data['Embarked'] = x_data['Embarked'].map(embarked_map)\n",
    "test_data['Embarked'] = test_data['Embarked'].map(embarked_map)\n",
    "\n",
    "## 3) SibSp와 Parch를 사용해서 함께 탑승한 총 가족 수\n",
    "x_data[\"Family\"] = x_data[\"Parch\"] + x_data[\"SibSp\"]\n",
    "test_data[\"Family\"] = test_data[\"Parch\"] + test_data[\"SibSp\"]\n",
    "\n",
    "## 4) 필요 없다고 판단한 데이터 drop\n",
    "x_data = x_data.drop(['PassengerId', 'Name', 'Cabin', 'Ticket', 'SibSp', 'Parch'], axis = 1)\n",
    "test_data = test_data.drop(['PassengerId', 'Name', 'Cabin', 'Ticket', 'SibSp', 'Parch'], axis = 1)"
   ]
  },
  {
   "cell_type": "code",
   "execution_count": 11,
   "id": "91acf559",
   "metadata": {
    "execution": {
     "iopub.execute_input": "2021-11-09T18:10:19.714281Z",
     "iopub.status.busy": "2021-11-09T18:10:19.712184Z",
     "iopub.status.idle": "2021-11-09T18:10:19.748679Z",
     "shell.execute_reply": "2021-11-09T18:10:19.747972Z",
     "shell.execute_reply.started": "2021-11-09T17:37:33.831820Z"
    },
    "papermill": {
     "duration": 0.059678,
     "end_time": "2021-11-09T18:10:19.748848",
     "exception": false,
     "start_time": "2021-11-09T18:10:19.689170",
     "status": "completed"
    },
    "tags": []
   },
   "outputs": [
    {
     "name": "stdout",
     "output_type": "stream",
     "text": [
      "           Pclass         Sex         Age        Fare    Embarked      Family\n",
      "count  891.000000  891.000000  891.000000  891.000000  891.000000  891.000000\n",
      "mean     2.308642    0.352413   29.736034   32.204208    0.361392    0.904602\n",
      "std      0.836071    0.477990   13.014897   49.693429    0.635673    1.613459\n",
      "min      1.000000    0.000000    0.420000    0.000000    0.000000    0.000000\n",
      "25%      2.000000    0.000000   22.000000    7.910400    0.000000    0.000000\n",
      "50%      3.000000    0.000000   30.000000   14.454200    0.000000    0.000000\n",
      "75%      3.000000    1.000000   35.000000   31.000000    1.000000    1.000000\n",
      "max      3.000000    1.000000   80.000000  512.329200    2.000000   10.000000\n",
      "           Pclass         Sex         Age        Fare    Embarked      Family\n",
      "count  418.000000  418.000000  418.000000  418.000000  418.000000  418.000000\n",
      "mean     2.265550    0.363636   30.272597   35.560845    0.464115    0.839713\n",
      "std      0.841838    0.481622   12.634534   55.856972    0.685516    1.519072\n",
      "min      1.000000    0.000000    0.170000    0.000000    0.000000    0.000000\n",
      "25%      1.000000    0.000000   23.000000    7.895800    0.000000    0.000000\n",
      "50%      3.000000    0.000000   30.272362   14.454200    0.000000    0.000000\n",
      "75%      3.000000    1.000000   35.750000   31.471875    1.000000    1.000000\n",
      "max      3.000000    1.000000   76.000000  512.329200    2.000000   10.000000\n"
     ]
    }
   ],
   "source": [
    "print(x_data.describe())\n",
    "print(test_data.describe())"
   ]
  },
  {
   "cell_type": "code",
   "execution_count": 12,
   "id": "52bf9bcf",
   "metadata": {
    "execution": {
     "iopub.execute_input": "2021-11-09T18:10:19.795549Z",
     "iopub.status.busy": "2021-11-09T18:10:19.794883Z",
     "iopub.status.idle": "2021-11-09T18:10:19.797498Z",
     "shell.execute_reply": "2021-11-09T18:10:19.797074Z",
     "shell.execute_reply.started": "2021-11-09T17:42:00.448009Z"
    },
    "papermill": {
     "duration": 0.028972,
     "end_time": "2021-11-09T18:10:19.797601",
     "exception": false,
     "start_time": "2021-11-09T18:10:19.768629",
     "status": "completed"
    },
    "tags": []
   },
   "outputs": [],
   "source": [
    "# 추가 data preprocessing\n",
    "## 1) 나이 카테고리화\n",
    "def age_category(x):\n",
    "    if x <= 10 :\n",
    "        return 0\n",
    "    elif x <= 20 :\n",
    "        return 1\n",
    "    elif x <= 30 :\n",
    "        return 2\n",
    "    elif x <= 40 :\n",
    "        return 3\n",
    "    elif x <= 50 :\n",
    "        return 4\n",
    "    elif x <= 60:\n",
    "        return 5\n",
    "    else:\n",
    "        return 6\n",
    "\n",
    "x_data[\"Age\"] = x_data['Age'].apply(age_category)\n",
    "test_data[\"Age\"] = test_data['Age'].apply(age_category)"
   ]
  },
  {
   "cell_type": "code",
   "execution_count": 13,
   "id": "f2bc4145",
   "metadata": {
    "execution": {
     "iopub.execute_input": "2021-11-09T18:10:19.841844Z",
     "iopub.status.busy": "2021-11-09T18:10:19.840989Z",
     "iopub.status.idle": "2021-11-09T18:10:19.870461Z",
     "shell.execute_reply": "2021-11-09T18:10:19.870932Z",
     "shell.execute_reply.started": "2021-11-09T17:42:03.136511Z"
    },
    "papermill": {
     "duration": 0.054778,
     "end_time": "2021-11-09T18:10:19.871071",
     "exception": false,
     "start_time": "2021-11-09T18:10:19.816293",
     "status": "completed"
    },
    "tags": []
   },
   "outputs": [
    {
     "name": "stdout",
     "output_type": "stream",
     "text": [
      "           Pclass         Sex         Age        Fare    Embarked      Family\n",
      "count  891.000000  891.000000  891.000000  891.000000  891.000000  891.000000\n",
      "mean     2.308642    0.352413    2.473625   32.204208    0.361392    0.904602\n",
      "std      0.836071    0.477990    1.308627   49.693429    0.635673    1.613459\n",
      "min      1.000000    0.000000    0.000000    0.000000    0.000000    0.000000\n",
      "25%      2.000000    0.000000    2.000000    7.910400    0.000000    0.000000\n",
      "50%      3.000000    0.000000    2.000000   14.454200    0.000000    0.000000\n",
      "75%      3.000000    1.000000    3.000000   31.000000    1.000000    1.000000\n",
      "max      3.000000    1.000000    6.000000  512.329200    2.000000   10.000000\n",
      "           Pclass         Sex         Age        Fare    Embarked      Family\n",
      "count  418.000000  418.000000  418.000000  418.000000  418.000000  418.000000\n",
      "mean     2.265550    0.363636    2.588517   35.560845    0.464115    0.839713\n",
      "std      0.841838    0.481622    1.268721   55.856972    0.685516    1.519072\n",
      "min      1.000000    0.000000    0.000000    0.000000    0.000000    0.000000\n",
      "25%      1.000000    0.000000    2.000000    7.895800    0.000000    0.000000\n",
      "50%      3.000000    0.000000    3.000000   14.454200    0.000000    0.000000\n",
      "75%      3.000000    1.000000    3.000000   31.471875    1.000000    1.000000\n",
      "max      3.000000    1.000000    6.000000  512.329200    2.000000   10.000000\n"
     ]
    }
   ],
   "source": [
    "# 추가 전처리를 위해 지금까지 전처리 했던 데이터의 분포 보기\n",
    "print(x_data.describe())\n",
    "print(test_data.describe())"
   ]
  },
  {
   "cell_type": "code",
   "execution_count": 14,
   "id": "2567e2da",
   "metadata": {
    "execution": {
     "iopub.execute_input": "2021-11-09T18:10:19.917261Z",
     "iopub.status.busy": "2021-11-09T18:10:19.916525Z",
     "iopub.status.idle": "2021-11-09T18:10:19.918538Z",
     "shell.execute_reply": "2021-11-09T18:10:19.918941Z",
     "shell.execute_reply.started": "2021-11-09T17:43:24.292543Z"
    },
    "papermill": {
     "duration": 0.02809,
     "end_time": "2021-11-09T18:10:19.919068",
     "exception": false,
     "start_time": "2021-11-09T18:10:19.890978",
     "status": "completed"
    },
    "tags": []
   },
   "outputs": [],
   "source": [
    "## 2) 운임요금 카테고리화\n",
    "def fare_category(x):\n",
    "    if x <= 10 :\n",
    "        return 0\n",
    "    elif x <= 20 :\n",
    "        return 1\n",
    "    elif x <= 40 :\n",
    "        return 2\n",
    "    else:\n",
    "        return 3\n",
    "\n",
    "x_data[\"Fare\"] = x_data['Fare'].apply(fare_category)\n",
    "test_data[\"Fare\"] = test_data['Fare'].apply(fare_category)"
   ]
  },
  {
   "cell_type": "code",
   "execution_count": 15,
   "id": "d9e0cba4",
   "metadata": {
    "execution": {
     "iopub.execute_input": "2021-11-09T18:10:19.965253Z",
     "iopub.status.busy": "2021-11-09T18:10:19.964415Z",
     "iopub.status.idle": "2021-11-09T18:10:19.997144Z",
     "shell.execute_reply": "2021-11-09T18:10:19.997725Z",
     "shell.execute_reply.started": "2021-11-09T17:43:34.570656Z"
    },
    "papermill": {
     "duration": 0.056923,
     "end_time": "2021-11-09T18:10:19.997902",
     "exception": false,
     "start_time": "2021-11-09T18:10:19.940979",
     "status": "completed"
    },
    "tags": []
   },
   "outputs": [
    {
     "name": "stdout",
     "output_type": "stream",
     "text": [
      "           Pclass         Sex         Age        Fare    Embarked      Family\n",
      "count  891.000000  891.000000  891.000000  891.000000  891.000000  891.000000\n",
      "mean     2.308642    0.352413    2.473625    1.242424    0.361392    0.904602\n",
      "std      0.836071    0.477990    1.308627    1.155172    0.635673    1.613459\n",
      "min      1.000000    0.000000    0.000000    0.000000    0.000000    0.000000\n",
      "25%      2.000000    0.000000    2.000000    0.000000    0.000000    0.000000\n",
      "50%      3.000000    0.000000    2.000000    1.000000    0.000000    0.000000\n",
      "75%      3.000000    1.000000    3.000000    2.000000    1.000000    1.000000\n",
      "max      3.000000    1.000000    6.000000    3.000000    2.000000   10.000000\n",
      "           Pclass         Sex         Age        Fare    Embarked      Family\n",
      "count  418.000000  418.000000  418.000000  418.000000  418.000000  418.000000\n",
      "mean     2.265550    0.363636    2.588517    1.267943    0.464115    0.839713\n",
      "std      0.841838    0.481622    1.268721    1.169138    0.685516    1.519072\n",
      "min      1.000000    0.000000    0.000000    0.000000    0.000000    0.000000\n",
      "25%      1.000000    0.000000    2.000000    0.000000    0.000000    0.000000\n",
      "50%      3.000000    0.000000    3.000000    1.000000    0.000000    0.000000\n",
      "75%      3.000000    1.000000    3.000000    2.000000    1.000000    1.000000\n",
      "max      3.000000    1.000000    6.000000    3.000000    2.000000   10.000000\n"
     ]
    }
   ],
   "source": [
    "# 전처리된 데이터\n",
    "print(x_data.describe())\n",
    "print(test_data.describe())"
   ]
  },
  {
   "cell_type": "code",
   "execution_count": 16,
   "id": "ad990ddd",
   "metadata": {
    "execution": {
     "iopub.execute_input": "2021-11-09T18:10:20.053064Z",
     "iopub.status.busy": "2021-11-09T18:10:20.052486Z",
     "iopub.status.idle": "2021-11-09T18:10:20.057782Z",
     "shell.execute_reply": "2021-11-09T18:10:20.057341Z",
     "shell.execute_reply.started": "2021-11-09T17:48:26.742183Z"
    },
    "papermill": {
     "duration": 0.039046,
     "end_time": "2021-11-09T18:10:20.057899",
     "exception": false,
     "start_time": "2021-11-09T18:10:20.018853",
     "status": "completed"
    },
    "tags": []
   },
   "outputs": [
    {
     "name": "stdout",
     "output_type": "stream",
     "text": [
      "<class 'pandas.core.frame.DataFrame'>\n",
      "RangeIndex: 891 entries, 0 to 890\n",
      "Data columns (total 6 columns):\n",
      " #   Column    Non-Null Count  Dtype\n",
      "---  ------    --------------  -----\n",
      " 0   Pclass    891 non-null    int64\n",
      " 1   Sex       891 non-null    int64\n",
      " 2   Age       891 non-null    int64\n",
      " 3   Fare      891 non-null    int64\n",
      " 4   Embarked  891 non-null    int64\n",
      " 5   Family    891 non-null    int64\n",
      "dtypes: int64(6)\n",
      "memory usage: 41.9 KB\n",
      "None\n",
      "<class 'pandas.core.frame.DataFrame'>\n",
      "RangeIndex: 418 entries, 0 to 417\n",
      "Data columns (total 6 columns):\n",
      " #   Column    Non-Null Count  Dtype\n",
      "---  ------    --------------  -----\n",
      " 0   Pclass    418 non-null    int64\n",
      " 1   Sex       418 non-null    int64\n",
      " 2   Age       418 non-null    int64\n",
      " 3   Fare      418 non-null    int64\n",
      " 4   Embarked  418 non-null    int64\n",
      " 5   Family    418 non-null    int64\n",
      "dtypes: int64(6)\n",
      "memory usage: 19.7 KB\n",
      "None\n"
     ]
    }
   ],
   "source": [
    "print(x_data.info())\n",
    "print(test_data.info())"
   ]
  },
  {
   "cell_type": "code",
   "execution_count": 17,
   "id": "fd193d15",
   "metadata": {
    "execution": {
     "iopub.execute_input": "2021-11-09T18:10:20.103818Z",
     "iopub.status.busy": "2021-11-09T18:10:20.103205Z",
     "iopub.status.idle": "2021-11-09T18:10:23.104436Z",
     "shell.execute_reply": "2021-11-09T18:10:23.103962Z",
     "shell.execute_reply.started": "2021-11-09T17:52:06.291471Z"
    },
    "papermill": {
     "duration": 3.026748,
     "end_time": "2021-11-09T18:10:23.104568",
     "exception": false,
     "start_time": "2021-11-09T18:10:20.077820",
     "status": "completed"
    },
    "tags": []
   },
   "outputs": [],
   "source": [
    "# 판다스 데이터프레임 형태의 데이터를 텐서로 변환\n",
    "x_data_tensor=torch.FloatTensor(np.array(x_data)).to(device)\n",
    "y_data_tensor=torch.LongTensor(np.array(y_data)).to(device).reshape(-1, 1) # data의 차원 맞추기\n",
    "test_data_tensor=torch.FloatTensor(np.array(test_data)).to(device)"
   ]
  },
  {
   "cell_type": "code",
   "execution_count": 18,
   "id": "523962bc",
   "metadata": {
    "execution": {
     "iopub.execute_input": "2021-11-09T18:10:23.150018Z",
     "iopub.status.busy": "2021-11-09T18:10:23.149455Z",
     "iopub.status.idle": "2021-11-09T18:10:23.166006Z",
     "shell.execute_reply": "2021-11-09T18:10:23.165534Z",
     "shell.execute_reply.started": "2021-11-09T17:56:21.159566Z"
    },
    "papermill": {
     "duration": 0.041476,
     "end_time": "2021-11-09T18:10:23.166126",
     "exception": false,
     "start_time": "2021-11-09T18:10:23.124650",
     "status": "completed"
    },
    "tags": []
   },
   "outputs": [
    {
     "name": "stdout",
     "output_type": "stream",
     "text": [
      "torch.Size([891, 6])\n",
      "torch.Size([891, 1])\n",
      "tensor(1, device='cuda:0')\n"
     ]
    }
   ],
   "source": [
    "# 차원\n",
    "print(x_data_tensor.shape)\n",
    "print(y_data_tensor.shape)\n",
    "print(y_data_tensor.max()) # 0, 1"
   ]
  },
  {
   "cell_type": "code",
   "execution_count": 19,
   "id": "8349d35f",
   "metadata": {
    "execution": {
     "iopub.execute_input": "2021-11-09T18:10:23.215360Z",
     "iopub.status.busy": "2021-11-09T18:10:23.214793Z",
     "iopub.status.idle": "2021-11-09T18:10:23.231299Z",
     "shell.execute_reply": "2021-11-09T18:10:23.230587Z",
     "shell.execute_reply.started": "2021-11-09T18:05:22.401168Z"
    },
    "papermill": {
     "duration": 0.045461,
     "end_time": "2021-11-09T18:10:23.231424",
     "exception": false,
     "start_time": "2021-11-09T18:10:23.185963",
     "status": "completed"
    },
    "tags": []
   },
   "outputs": [],
   "source": [
    "# MLP 구현 - seed 고정\n",
    "torch.manual_seed(777)\n",
    "if device == 'cuda':\n",
    "    torch.cuda.manual_seed_all(777)\n",
    "    \n",
    "# 학습 파라미터 설정\n",
    "learning_rate = 1e-3\n",
    "training_epochs = 100\n",
    "\n",
    "# model 설계\n",
    "class MLP(torch.nn.Module):\n",
    "    def __init__(self):\n",
    "        super(MLP,self).__init__()\n",
    "        self.linear1 = nn.Linear(6,256,bias=True)\n",
    "        self.linear2 = nn.Linear(256,128,bias=True)\n",
    "        self.linear3 = nn.Linear(128,64,bias=True)\n",
    "        self.linear4 = nn.Linear(64,2,bias=True)\n",
    "        self.sigmoid = nn.Sigmoid()\n",
    "\n",
    "    def forward(self,x):\n",
    "        out = self.linear1(x)\n",
    "        out = self.sigmoid(out)\n",
    "        out = self.linear2(out)\n",
    "        out = self.sigmoid(out)\n",
    "        out = self.linear3(out)\n",
    "        out = self.sigmoid(out)\n",
    "        out = self.linear4(out)\n",
    "        return out\n",
    "\n",
    "model = MLP().to(device)"
   ]
  },
  {
   "cell_type": "code",
   "execution_count": 20,
   "id": "b4203a87",
   "metadata": {
    "execution": {
     "iopub.execute_input": "2021-11-09T18:10:23.276523Z",
     "iopub.status.busy": "2021-11-09T18:10:23.275793Z",
     "iopub.status.idle": "2021-11-09T18:10:23.278469Z",
     "shell.execute_reply": "2021-11-09T18:10:23.278031Z",
     "shell.execute_reply.started": "2021-11-09T18:06:49.873464Z"
    },
    "papermill": {
     "duration": 0.026902,
     "end_time": "2021-11-09T18:10:23.278574",
     "exception": false,
     "start_time": "2021-11-09T18:10:23.251672",
     "status": "completed"
    },
    "tags": []
   },
   "outputs": [],
   "source": [
    "# 오차함수 선택\n",
    "loss_fn = nn.CrossEntropyLoss().to(device)\n",
    "# 가중치를 학습하기 위한 최적화 기법 선택\n",
    "optimizer = optim.Adam(model.parameters(), lr=learning_rate)"
   ]
  },
  {
   "cell_type": "code",
   "execution_count": 21,
   "id": "138fd006",
   "metadata": {
    "execution": {
     "iopub.execute_input": "2021-11-09T18:10:23.325085Z",
     "iopub.status.busy": "2021-11-09T18:10:23.324281Z",
     "iopub.status.idle": "2021-11-09T18:12:58.595149Z",
     "shell.execute_reply": "2021-11-09T18:12:58.592633Z",
     "shell.execute_reply.started": "2021-11-09T18:06:50.275168Z"
    },
    "papermill": {
     "duration": 155.296497,
     "end_time": "2021-11-09T18:12:58.595281",
     "exception": false,
     "start_time": "2021-11-09T18:10:23.298784",
     "status": "completed"
    },
    "tags": []
   },
   "outputs": [
    {
     "data": {
      "application/vnd.jupyter.widget-view+json": {
       "model_id": "60d13f78671e4f608d4772f511b5bfe6",
       "version_major": 2,
       "version_minor": 0
      },
      "text/plain": [
       "  0%|          | 0/100 [00:00<?, ?it/s]"
      ]
     },
     "metadata": {},
     "output_type": "display_data"
    },
    {
     "name": "stdout",
     "output_type": "stream",
     "text": [
      "Epoch: 0001 cost = 528.424011230\n",
      "Epoch: 0011 cost = 396.360595703\n",
      "Epoch: 0021 cost = 383.101043701\n",
      "Epoch: 0031 cost = 371.555480957\n",
      "Epoch: 0041 cost = 357.287445068\n",
      "Epoch: 0051 cost = 342.325805664\n",
      "Epoch: 0061 cost = 330.580108643\n",
      "Epoch: 0071 cost = 317.733093262\n",
      "Epoch: 0081 cost = 307.237304688\n",
      "Epoch: 0091 cost = 298.842346191\n",
      "Learning finished\n"
     ]
    }
   ],
   "source": [
    "# train\n",
    "from tqdm.notebook import tqdm\n",
    "model.train()\n",
    "for epoch in tqdm(range(training_epochs)):\n",
    "    total_cost = 0\n",
    "    for X, Y in zip(x_data_tensor, y_data_tensor):\n",
    "        # 그래디언트 초기화\n",
    "        optimizer.zero_grad()\n",
    "        # Forward 계산\n",
    "        y_pred = model(X).reshape(1, 2)\n",
    "        Y = Y.reshape(1)\n",
    "\n",
    "        # Error 계산\n",
    "        cost = loss_fn(y_pred, Y)\n",
    "        # Back paropagation\n",
    "        cost.backward()\n",
    "        # 가중치 갱신\n",
    "        optimizer.step()\n",
    "        # Error 합계\n",
    "        total_cost += cost\n",
    "    if not (epoch % 10):\n",
    "        print('Epoch:', '%04d' % (epoch + 1), 'cost =', '{:.9f}'.format(total_cost))\n",
    "    \n",
    "print('Learning finished')\n"
   ]
  },
  {
   "cell_type": "code",
   "execution_count": 22,
   "id": "8334b877",
   "metadata": {
    "execution": {
     "iopub.execute_input": "2021-11-09T18:12:58.645500Z",
     "iopub.status.busy": "2021-11-09T18:12:58.644974Z",
     "iopub.status.idle": "2021-11-09T18:12:58.654660Z",
     "shell.execute_reply": "2021-11-09T18:12:58.654229Z",
     "shell.execute_reply.started": "2021-11-09T18:09:49.838687Z"
    },
    "papermill": {
     "duration": 0.036437,
     "end_time": "2021-11-09T18:12:58.654789",
     "exception": false,
     "start_time": "2021-11-09T18:12:58.618352",
     "status": "completed"
    },
    "tags": []
   },
   "outputs": [],
   "source": [
    "# predict\n",
    "# 모델 평가\n",
    "model.eval()\n",
    "with torch.no_grad(): # 임시로 required_grad = false로 설정하는 것\n",
    "    predict = model(test_data_tensor)\n",
    "    predict = torch.argmax(predict, 1)"
   ]
  },
  {
   "cell_type": "code",
   "execution_count": 23,
   "id": "3d446351",
   "metadata": {
    "execution": {
     "iopub.execute_input": "2021-11-09T18:12:58.705104Z",
     "iopub.status.busy": "2021-11-09T18:12:58.704571Z",
     "iopub.status.idle": "2021-11-09T18:12:58.711462Z",
     "shell.execute_reply": "2021-11-09T18:12:58.711055Z",
     "shell.execute_reply.started": "2021-11-09T18:09:50.846904Z"
    },
    "papermill": {
     "duration": 0.033803,
     "end_time": "2021-11-09T18:12:58.711572",
     "exception": false,
     "start_time": "2021-11-09T18:12:58.677769",
     "status": "completed"
    },
    "tags": []
   },
   "outputs": [],
   "source": [
    "# submit\n",
    "submit['Survived'] = predict.cpu()\n",
    "submit.to_csv('result.csv', index=False) "
   ]
  },
  {
   "cell_type": "code",
   "execution_count": null,
   "id": "685dd1c7",
   "metadata": {
    "papermill": {
     "duration": 0.022828,
     "end_time": "2021-11-09T18:12:58.757766",
     "exception": false,
     "start_time": "2021-11-09T18:12:58.734938",
     "status": "completed"
    },
    "tags": []
   },
   "outputs": [],
   "source": []
  }
 ],
 "metadata": {
  "kernelspec": {
   "display_name": "Python 3",
   "language": "python",
   "name": "python3"
  },
  "language_info": {
   "codemirror_mode": {
    "name": "ipython",
    "version": 3
   },
   "file_extension": ".py",
   "mimetype": "text/x-python",
   "name": "python",
   "nbconvert_exporter": "python",
   "pygments_lexer": "ipython3",
   "version": "3.7.10"
  },
  "papermill": {
   "default_parameters": {},
   "duration": 169.812844,
   "end_time": "2021-11-09T18:12:59.791418",
   "environment_variables": {},
   "exception": null,
   "input_path": "__notebook__.ipynb",
   "output_path": "__notebook__.ipynb",
   "parameters": {},
   "start_time": "2021-11-09T18:10:09.978574",
   "version": "2.3.3"
  },
  "widgets": {
   "application/vnd.jupyter.widget-state+json": {
    "state": {
     "0ecd3a21a6ba444eb41b1fced1698ca1": {
      "model_module": "@jupyter-widgets/base",
      "model_module_version": "1.2.0",
      "model_name": "LayoutModel",
      "state": {
       "_model_module": "@jupyter-widgets/base",
       "_model_module_version": "1.2.0",
       "_model_name": "LayoutModel",
       "_view_count": null,
       "_view_module": "@jupyter-widgets/base",
       "_view_module_version": "1.2.0",
       "_view_name": "LayoutView",
       "align_content": null,
       "align_items": null,
       "align_self": null,
       "border": null,
       "bottom": null,
       "display": null,
       "flex": null,
       "flex_flow": null,
       "grid_area": null,
       "grid_auto_columns": null,
       "grid_auto_flow": null,
       "grid_auto_rows": null,
       "grid_column": null,
       "grid_gap": null,
       "grid_row": null,
       "grid_template_areas": null,
       "grid_template_columns": null,
       "grid_template_rows": null,
       "height": null,
       "justify_content": null,
       "justify_items": null,
       "left": null,
       "margin": null,
       "max_height": null,
       "max_width": null,
       "min_height": null,
       "min_width": null,
       "object_fit": null,
       "object_position": null,
       "order": null,
       "overflow": null,
       "overflow_x": null,
       "overflow_y": null,
       "padding": null,
       "right": null,
       "top": null,
       "visibility": null,
       "width": null
      }
     },
     "143c827b9c804787b0faec0cf1be50d0": {
      "model_module": "@jupyter-widgets/controls",
      "model_module_version": "1.5.0",
      "model_name": "HTMLModel",
      "state": {
       "_dom_classes": [],
       "_model_module": "@jupyter-widgets/controls",
       "_model_module_version": "1.5.0",
       "_model_name": "HTMLModel",
       "_view_count": null,
       "_view_module": "@jupyter-widgets/controls",
       "_view_module_version": "1.5.0",
       "_view_name": "HTMLView",
       "description": "",
       "description_tooltip": null,
       "layout": "IPY_MODEL_0ecd3a21a6ba444eb41b1fced1698ca1",
       "placeholder": "​",
       "style": "IPY_MODEL_7421056a0d274db5ba9de93870ce775b",
       "value": " 100/100 [02:35&lt;00:00,  1.54s/it]"
      }
     },
     "3bcdf45e384d49d5aacd094295b50e27": {
      "model_module": "@jupyter-widgets/controls",
      "model_module_version": "1.5.0",
      "model_name": "DescriptionStyleModel",
      "state": {
       "_model_module": "@jupyter-widgets/controls",
       "_model_module_version": "1.5.0",
       "_model_name": "DescriptionStyleModel",
       "_view_count": null,
       "_view_module": "@jupyter-widgets/base",
       "_view_module_version": "1.2.0",
       "_view_name": "StyleView",
       "description_width": ""
      }
     },
     "3f53b1e6583942aa81ad6f7168a6cc90": {
      "model_module": "@jupyter-widgets/base",
      "model_module_version": "1.2.0",
      "model_name": "LayoutModel",
      "state": {
       "_model_module": "@jupyter-widgets/base",
       "_model_module_version": "1.2.0",
       "_model_name": "LayoutModel",
       "_view_count": null,
       "_view_module": "@jupyter-widgets/base",
       "_view_module_version": "1.2.0",
       "_view_name": "LayoutView",
       "align_content": null,
       "align_items": null,
       "align_self": null,
       "border": null,
       "bottom": null,
       "display": null,
       "flex": null,
       "flex_flow": null,
       "grid_area": null,
       "grid_auto_columns": null,
       "grid_auto_flow": null,
       "grid_auto_rows": null,
       "grid_column": null,
       "grid_gap": null,
       "grid_row": null,
       "grid_template_areas": null,
       "grid_template_columns": null,
       "grid_template_rows": null,
       "height": null,
       "justify_content": null,
       "justify_items": null,
       "left": null,
       "margin": null,
       "max_height": null,
       "max_width": null,
       "min_height": null,
       "min_width": null,
       "object_fit": null,
       "object_position": null,
       "order": null,
       "overflow": null,
       "overflow_x": null,
       "overflow_y": null,
       "padding": null,
       "right": null,
       "top": null,
       "visibility": null,
       "width": null
      }
     },
     "60d13f78671e4f608d4772f511b5bfe6": {
      "model_module": "@jupyter-widgets/controls",
      "model_module_version": "1.5.0",
      "model_name": "HBoxModel",
      "state": {
       "_dom_classes": [],
       "_model_module": "@jupyter-widgets/controls",
       "_model_module_version": "1.5.0",
       "_model_name": "HBoxModel",
       "_view_count": null,
       "_view_module": "@jupyter-widgets/controls",
       "_view_module_version": "1.5.0",
       "_view_name": "HBoxView",
       "box_style": "",
       "children": [
        "IPY_MODEL_b1eb74d814bc4758912e5e01e411789c",
        "IPY_MODEL_aad1f5341eb84f88bbbf1582f0058172",
        "IPY_MODEL_143c827b9c804787b0faec0cf1be50d0"
       ],
       "layout": "IPY_MODEL_3f53b1e6583942aa81ad6f7168a6cc90"
      }
     },
     "6980e663c6d64d8887598c8f1a43c3d0": {
      "model_module": "@jupyter-widgets/base",
      "model_module_version": "1.2.0",
      "model_name": "LayoutModel",
      "state": {
       "_model_module": "@jupyter-widgets/base",
       "_model_module_version": "1.2.0",
       "_model_name": "LayoutModel",
       "_view_count": null,
       "_view_module": "@jupyter-widgets/base",
       "_view_module_version": "1.2.0",
       "_view_name": "LayoutView",
       "align_content": null,
       "align_items": null,
       "align_self": null,
       "border": null,
       "bottom": null,
       "display": null,
       "flex": null,
       "flex_flow": null,
       "grid_area": null,
       "grid_auto_columns": null,
       "grid_auto_flow": null,
       "grid_auto_rows": null,
       "grid_column": null,
       "grid_gap": null,
       "grid_row": null,
       "grid_template_areas": null,
       "grid_template_columns": null,
       "grid_template_rows": null,
       "height": null,
       "justify_content": null,
       "justify_items": null,
       "left": null,
       "margin": null,
       "max_height": null,
       "max_width": null,
       "min_height": null,
       "min_width": null,
       "object_fit": null,
       "object_position": null,
       "order": null,
       "overflow": null,
       "overflow_x": null,
       "overflow_y": null,
       "padding": null,
       "right": null,
       "top": null,
       "visibility": null,
       "width": null
      }
     },
     "7421056a0d274db5ba9de93870ce775b": {
      "model_module": "@jupyter-widgets/controls",
      "model_module_version": "1.5.0",
      "model_name": "DescriptionStyleModel",
      "state": {
       "_model_module": "@jupyter-widgets/controls",
       "_model_module_version": "1.5.0",
       "_model_name": "DescriptionStyleModel",
       "_view_count": null,
       "_view_module": "@jupyter-widgets/base",
       "_view_module_version": "1.2.0",
       "_view_name": "StyleView",
       "description_width": ""
      }
     },
     "9a3265bcd8d54e17a40911ad01f9500b": {
      "model_module": "@jupyter-widgets/base",
      "model_module_version": "1.2.0",
      "model_name": "LayoutModel",
      "state": {
       "_model_module": "@jupyter-widgets/base",
       "_model_module_version": "1.2.0",
       "_model_name": "LayoutModel",
       "_view_count": null,
       "_view_module": "@jupyter-widgets/base",
       "_view_module_version": "1.2.0",
       "_view_name": "LayoutView",
       "align_content": null,
       "align_items": null,
       "align_self": null,
       "border": null,
       "bottom": null,
       "display": null,
       "flex": null,
       "flex_flow": null,
       "grid_area": null,
       "grid_auto_columns": null,
       "grid_auto_flow": null,
       "grid_auto_rows": null,
       "grid_column": null,
       "grid_gap": null,
       "grid_row": null,
       "grid_template_areas": null,
       "grid_template_columns": null,
       "grid_template_rows": null,
       "height": null,
       "justify_content": null,
       "justify_items": null,
       "left": null,
       "margin": null,
       "max_height": null,
       "max_width": null,
       "min_height": null,
       "min_width": null,
       "object_fit": null,
       "object_position": null,
       "order": null,
       "overflow": null,
       "overflow_x": null,
       "overflow_y": null,
       "padding": null,
       "right": null,
       "top": null,
       "visibility": null,
       "width": null
      }
     },
     "aad1f5341eb84f88bbbf1582f0058172": {
      "model_module": "@jupyter-widgets/controls",
      "model_module_version": "1.5.0",
      "model_name": "FloatProgressModel",
      "state": {
       "_dom_classes": [],
       "_model_module": "@jupyter-widgets/controls",
       "_model_module_version": "1.5.0",
       "_model_name": "FloatProgressModel",
       "_view_count": null,
       "_view_module": "@jupyter-widgets/controls",
       "_view_module_version": "1.5.0",
       "_view_name": "ProgressView",
       "bar_style": "success",
       "description": "",
       "description_tooltip": null,
       "layout": "IPY_MODEL_9a3265bcd8d54e17a40911ad01f9500b",
       "max": 100.0,
       "min": 0.0,
       "orientation": "horizontal",
       "style": "IPY_MODEL_c0b85b1bdb224f0c8f5e25efdf2d812c",
       "value": 100.0
      }
     },
     "b1eb74d814bc4758912e5e01e411789c": {
      "model_module": "@jupyter-widgets/controls",
      "model_module_version": "1.5.0",
      "model_name": "HTMLModel",
      "state": {
       "_dom_classes": [],
       "_model_module": "@jupyter-widgets/controls",
       "_model_module_version": "1.5.0",
       "_model_name": "HTMLModel",
       "_view_count": null,
       "_view_module": "@jupyter-widgets/controls",
       "_view_module_version": "1.5.0",
       "_view_name": "HTMLView",
       "description": "",
       "description_tooltip": null,
       "layout": "IPY_MODEL_6980e663c6d64d8887598c8f1a43c3d0",
       "placeholder": "​",
       "style": "IPY_MODEL_3bcdf45e384d49d5aacd094295b50e27",
       "value": "100%"
      }
     },
     "c0b85b1bdb224f0c8f5e25efdf2d812c": {
      "model_module": "@jupyter-widgets/controls",
      "model_module_version": "1.5.0",
      "model_name": "ProgressStyleModel",
      "state": {
       "_model_module": "@jupyter-widgets/controls",
       "_model_module_version": "1.5.0",
       "_model_name": "ProgressStyleModel",
       "_view_count": null,
       "_view_module": "@jupyter-widgets/base",
       "_view_module_version": "1.2.0",
       "_view_name": "StyleView",
       "bar_color": null,
       "description_width": ""
      }
     }
    },
    "version_major": 2,
    "version_minor": 0
   }
  }
 },
 "nbformat": 4,
 "nbformat_minor": 5
}
