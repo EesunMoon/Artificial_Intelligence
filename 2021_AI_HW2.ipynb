{
  "nbformat": 4,
  "nbformat_minor": 0,
  "metadata": {
    "colab": {
      "name": "2021_AI_HW2.ipynb",
      "provenance": [],
      "collapsed_sections": [],
      "authorship_tag": "ABX9TyO0Z19HDJJUeD/XCnJJtdwX",
      "include_colab_link": true
    },
    "kernelspec": {
      "name": "python3",
      "display_name": "Python 3"
    },
    "language_info": {
      "name": "python"
    }
  },
  "cells": [
    {
      "cell_type": "markdown",
      "metadata": {
        "id": "view-in-github",
        "colab_type": "text"
      },
      "source": [
        "<a href=\"https://colab.research.google.com/github/MoonEeSun/Artificial_Intelligence/blob/main/2021_AI_HW2.ipynb\" target=\"_parent\"><img src=\"https://colab.research.google.com/assets/colab-badge.svg\" alt=\"Open In Colab\"/></a>"
      ]
    },
    {
      "cell_type": "markdown",
      "metadata": {
        "id": "F-SDh0PJM3nG"
      },
      "source": [
        "# 과제2. 선형회귀 진행\n",
        "1. 관련 모듈 import\n",
        "2. data load\n",
        "3. model 불러오기 -> 방법(3)\n",
        "  1. 직접 w, b, cost 작성\n",
        "  2. nn.Module 이용\n",
        "  3. class 이용\n",
        "4. Optimizer 정의\n",
        "5. epoch로 train\n",
        "  - H(x) 정의\n",
        "  - cost 함수 정의\n",
        "  - cost로 H(x) 개선\n",
        "    - optimizer gradient 0으로 초기화\n",
        "    - cost 함수의 미분값 구하기\n",
        "    - W,b 업데이트"
      ]
    },
    {
      "cell_type": "markdown",
      "metadata": {
        "id": "JV4Y4V8sRLMu"
      },
      "source": [
        "### 1. 관련 모듈 import 및 random seed 고정"
      ]
    },
    {
      "cell_type": "code",
      "metadata": {
        "colab": {
          "base_uri": "https://localhost:8080/"
        },
        "id": "LbfACQ3_MxqJ",
        "outputId": "6820581a-7390-40fd-b3de-6fa90e724ca4"
      },
      "source": [
        "# import\n",
        "import torch\n",
        "import torch.nn as nn\n",
        "import torch.nn.functional as F\n",
        "import numpy as np\n",
        "\n",
        "# random seed 1로 고정\n",
        "torch.manual_seed(1)"
      ],
      "execution_count": null,
      "outputs": [
        {
          "output_type": "execute_result",
          "data": {
            "text/plain": [
              "<torch._C.Generator at 0x7fd93691eb90>"
            ]
          },
          "metadata": {},
          "execution_count": 36
        }
      ]
    },
    {
      "cell_type": "markdown",
      "metadata": {
        "id": "wOmlsKIBRPkh"
      },
      "source": [
        "### 2. data load"
      ]
    },
    {
      "cell_type": "code",
      "metadata": {
        "colab": {
          "base_uri": "https://localhost:8080/"
        },
        "id": "E-a-ewr6NEKX",
        "outputId": "9a3b687c-6fd5-40a1-9a2c-43d50c378b6a"
      },
      "source": [
        "# data load\n",
        "X = np.array([[-10, 0, -8, -8], [-4, -3,  9,  3], [-7,  9, 10,  4], [-6, -4,  2,  3], [-6, -9, -9,  1], \n",
        "              [-2,  5, -7, -2], [-9, -2, -3, -3], [9,  -4,  6,  4], [9,  -1, -9, -6], [1, -9, -11,  3]])\n",
        "Y = np.array([-2.0, -53.9, -21.1, -36.7, -15.2, 42.9, -25.7, -11.4, 56.0, 7.2])\n",
        "\n",
        "print(X.shape)\n",
        "print(Y.shape)\n",
        "\n",
        "\n",
        "# tensor로 변환\n",
        "x_train = torch.FloatTensor(X)\n",
        "y_train = torch.FloatTensor(Y).unsqueeze(1)\n",
        "\n",
        "print(x_train.shape)\n",
        "print(y_train.shape)"
      ],
      "execution_count": null,
      "outputs": [
        {
          "output_type": "stream",
          "name": "stdout",
          "text": [
            "(10, 4)\n",
            "(10,)\n",
            "torch.Size([10, 4])\n",
            "torch.Size([10, 1])\n"
          ]
        }
      ]
    },
    {
      "cell_type": "markdown",
      "metadata": {
        "id": "sUabKoUvRa0k"
      },
      "source": [
        "### 3. model 불러오기"
      ]
    },
    {
      "cell_type": "markdown",
      "metadata": {
        "id": "vEuUNwSlSczh"
      },
      "source": [
        "1) w, b, cost 작성"
      ]
    },
    {
      "cell_type": "code",
      "metadata": {
        "id": "vIPPt7kMSibG"
      },
      "source": [
        "W = torch.zeros((4,1), requires_grad=True)\n",
        "b = torch.zeros(1, requires_grad=True)"
      ],
      "execution_count": null,
      "outputs": []
    },
    {
      "cell_type": "markdown",
      "metadata": {
        "id": "b6DtAzcUSiyh"
      },
      "source": [
        "2) nn.Module 사용"
      ]
    },
    {
      "cell_type": "code",
      "metadata": {
        "id": "JSFUSWjrSlMW"
      },
      "source": [
        "model = nn.Linear(4, 1)"
      ],
      "execution_count": null,
      "outputs": []
    },
    {
      "cell_type": "markdown",
      "metadata": {
        "id": "RxQMmCcsSlgh"
      },
      "source": [
        "3) class로 구현"
      ]
    },
    {
      "cell_type": "code",
      "metadata": {
        "id": "wymgMKRcN1Sv"
      },
      "source": [
        "class MultivariateLinearRegressionModel(nn.Module):\n",
        "  def __init__(self):\n",
        "    super().__init__()\n",
        "    self.linear = nn.Linear(4, 1)\n",
        "\n",
        "  def forward(self, x):\n",
        "    return self.linear(x)\n",
        "\n",
        "\n",
        "model = MultivariateLinearRegressionModel()"
      ],
      "execution_count": null,
      "outputs": []
    },
    {
      "cell_type": "markdown",
      "metadata": {
        "id": "si40NtSfTb65"
      },
      "source": [
        "### 4. optimizer 정의"
      ]
    },
    {
      "cell_type": "code",
      "metadata": {
        "id": "sv3kNq30O-F7"
      },
      "source": [
        "# optimizer\n",
        "optimizer = torch.optim.SGD(model.parameters(), lr = 1e-3)"
      ],
      "execution_count": null,
      "outputs": []
    },
    {
      "cell_type": "markdown",
      "metadata": {
        "id": "GjWHJHd9T2td"
      },
      "source": [
        "### 5. train"
      ]
    },
    {
      "cell_type": "code",
      "metadata": {
        "colab": {
          "base_uri": "https://localhost:8080/"
        },
        "id": "N77KmO04T1W6",
        "outputId": "b07326d2-5a40-487a-fe98-4896b51f9f22"
      },
      "source": [
        "nb_epochs = 5000\n",
        "for epochs in range(nb_epochs+1):\n",
        "\n",
        "  # H(x)\n",
        "  prediction = model(x_train)\n",
        "\n",
        "  # cost function\n",
        "  cost = F.mse_loss(prediction, y_train)\n",
        "\n",
        "  # cost로 H(x)개선\n",
        "  ## optimizer gradient 0으로 초기화\n",
        "  optimizer.zero_grad()\n",
        "  ## cost 미분값 구하기\n",
        "  cost.backward()\n",
        "  ## W, b 값 업데이트\n",
        "  optimizer.step()\n",
        "\n",
        "  if epochs % 200 == 0:\n",
        "    print('Epoch {:4d}/{} Cost : {:6f}'.format(epochs, nb_epochs, cost.item()))\n",
        "\n",
        "\n",
        "print(list(model.parameters()))"
      ],
      "execution_count": null,
      "outputs": [
        {
          "output_type": "stream",
          "name": "stdout",
          "text": [
            "Epoch    0/5000 Cost : 1037.261230\n",
            "Epoch  200/5000 Cost : 6.372836\n",
            "Epoch  400/5000 Cost : 5.128925\n",
            "Epoch  600/5000 Cost : 4.849803\n",
            "Epoch  800/5000 Cost : 4.700386\n",
            "Epoch 1000/5000 Cost : 4.617626\n",
            "Epoch 1200/5000 Cost : 4.571750\n",
            "Epoch 1400/5000 Cost : 4.546322\n",
            "Epoch 1600/5000 Cost : 4.532220\n",
            "Epoch 1800/5000 Cost : 4.524405\n",
            "Epoch 2000/5000 Cost : 4.520077\n",
            "Epoch 2200/5000 Cost : 4.517669\n",
            "Epoch 2400/5000 Cost : 4.516337\n",
            "Epoch 2600/5000 Cost : 4.515602\n",
            "Epoch 2800/5000 Cost : 4.515193\n",
            "Epoch 3000/5000 Cost : 4.514971\n",
            "Epoch 3200/5000 Cost : 4.514838\n",
            "Epoch 3400/5000 Cost : 4.514771\n",
            "Epoch 3600/5000 Cost : 4.514732\n",
            "Epoch 3800/5000 Cost : 4.514708\n",
            "Epoch 4000/5000 Cost : 4.514699\n",
            "Epoch 4200/5000 Cost : 4.514695\n",
            "Epoch 4400/5000 Cost : 4.514686\n",
            "Epoch 4600/5000 Cost : 4.514687\n",
            "Epoch 4800/5000 Cost : 4.514687\n",
            "Epoch 5000/5000 Cost : 4.514684\n",
            "[Parameter containing:\n",
            "tensor([[ 2.9030,  3.9810, -3.7670,  0.3561]], requires_grad=True), Parameter containing:\n",
            "tensor([0.9343], requires_grad=True)]\n"
          ]
        }
      ]
    },
    {
      "cell_type": "markdown",
      "metadata": {
        "id": "SI6rtHypjtyg"
      },
      "source": [
        "### 6. test\n"
      ]
    },
    {
      "cell_type": "code",
      "metadata": {
        "colab": {
          "base_uri": "https://localhost:8080/"
        },
        "id": "TpEiGnKbVB93",
        "outputId": "9dc048ca-692b-4d2d-ec2e-c3ba5c4deb46"
      },
      "source": [
        "test_var1 = torch.FloatTensor([-10, 0, -8, -8])\n",
        "pred_y1 = model(test_var1)\n",
        "\n",
        "print(\"훈련 후 입력이 -10, 0, -8, -8일 때의 예측값: \", pred_y1)\n",
        "print(list(model.parameters()))"
      ],
      "execution_count": null,
      "outputs": [
        {
          "output_type": "stream",
          "name": "stdout",
          "text": [
            "훈련 후 입력이 -10, 0, -8, -8일 때의 예측값:  tensor([-0.8088], grad_fn=<AddBackward0>)\n",
            "[Parameter containing:\n",
            "tensor([[ 2.9030,  3.9810, -3.7670,  0.3561]], requires_grad=True), Parameter containing:\n",
            "tensor([0.9343], requires_grad=True)]\n"
          ]
        }
      ]
    },
    {
      "cell_type": "code",
      "metadata": {
        "id": "P8h-KjjNVhOU",
        "colab": {
          "base_uri": "https://localhost:8080/"
        },
        "outputId": "b486d864-2576-45f7-fe57-bfc06bb6d441"
      },
      "source": [
        "test_var = torch.FloatTensor([-4, -3,  9,  3])\n",
        "pred_y = model(test_var)\n",
        "\n",
        "print(\"훈련 후 입력이 -4, -3,  9,  3일 때의 예측값: \", pred_y)\n",
        "print(list(model.parameters()))"
      ],
      "execution_count": null,
      "outputs": [
        {
          "output_type": "stream",
          "name": "stdout",
          "text": [
            "훈련 후 입력이 -4, -3,  9,  3일 때의 예측값:  tensor([-55.4555], grad_fn=<AddBackward0>)\n",
            "[Parameter containing:\n",
            "tensor([[ 2.9030,  3.9810, -3.7670,  0.3561]], requires_grad=True), Parameter containing:\n",
            "tensor([0.9343], requires_grad=True)]\n"
          ]
        }
      ]
    },
    {
      "cell_type": "code",
      "metadata": {
        "id": "9KcSsewbkO3W"
      },
      "source": [
        ""
      ],
      "execution_count": null,
      "outputs": []
    }
  ]
}