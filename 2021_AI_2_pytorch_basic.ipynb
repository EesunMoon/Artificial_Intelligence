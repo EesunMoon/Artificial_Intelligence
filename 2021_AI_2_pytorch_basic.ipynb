{
  "nbformat": 4,
  "nbformat_minor": 0,
  "metadata": {
    "colab": {
      "name": "2021_AI_2_pytorch_basic.ipynb",
      "provenance": [],
      "collapsed_sections": [],
      "authorship_tag": "ABX9TyPngSngRscCTTerYuJeGqv8",
      "include_colab_link": true
    },
    "kernelspec": {
      "name": "python3",
      "display_name": "Python 3"
    },
    "language_info": {
      "name": "python"
    }
  },
  "cells": [
    {
      "cell_type": "markdown",
      "metadata": {
        "id": "view-in-github",
        "colab_type": "text"
      },
      "source": [
        "<a href=\"https://colab.research.google.com/github/MoonEeSun/Artificial_Intelligence/blob/main/2021_AI_2_pytorch_basic.ipynb\" target=\"_parent\"><img src=\"https://colab.research.google.com/assets/colab-badge.svg\" alt=\"Open In Colab\"/></a>"
      ]
    },
    {
      "cell_type": "markdown",
      "metadata": {
        "id": "UtbTSVP0HIbg"
      },
      "source": [
        "# 2-1 파이토치 패키지의 기본 구성\n",
        "- torch : 텐서 등의 다양한 수학 함수 포함, numpy와 유사한 구조\n",
        "- torch.autograd : 자동 미분을 위한 함수\n",
        "- torch.nn : 신경망을 구축하기 위한 다양한 데이터 구조나 layer 정의\n",
        "  - RNN, LSTM 과 같은 layer / ReLU와 같은 활성함수, MSELoss와 같은 손실 함수\n",
        "- torch.optim : 파라미터 최적화 알고리즘 구현\n",
        "  - 확률적 경사 하강법 : Stochastic Gradient Descent, SGD\n",
        "- torch.utils.data : SGD의 반복 연산을 실행할 때 사용하는 '미니 배피용 유틸리티 함수' 포함\n",
        "- torch.onnx : ONNX의 포맷으로 모델을 export할 때 사용\n",
        "  - ONNX는 서로 다른 딥러닝 프레임워크 간 모델을 공유할 때 사용\n"
      ]
    },
    {
      "cell_type": "markdown",
      "metadata": {
        "id": "82bX5do3H9Sk"
      },
      "source": [
        "# 2-2. 텐서 조작하기(Tensor Manipulation) 1\n",
        "- 벡터, 행렬, 텐서의 개념에 대해서 이해\n",
        "- Numpy와 파이토치로 벡터, 행렬, 텐서를 다루는 방법 이해\n",
        "\n",
        "### 1. 벡터, 행렬, 텐서\n",
        "- 1차원 : 벡터(vector)\n",
        "- 2차원 : 행렬(Matrix)\n",
        "- 3차원 : 텐서(Tensor)\n",
        "  - 2D Tensor\n",
        "    - 2차원의 텐서 크기 = batch_size(행의 크기) * dimension(열의 크기)\n",
        "      - Ex) 훈련데이터 하나의 크기 = 256 (= 벡터의 차원 ), 훈련데이터의 개수 3000개 => 전체 훈련 데이터 크기 = 3000 X 256, 3000개에서 64개씩 꺼내서 처리한다면 => batch_size = 64, 컴퓨터가 한 번에 처리하는 2D 텐서의 크기 = 64 x 256\n",
        "    - 3D Tensor : 일반적으로 이미지, 영상처리 할 때 사용\n",
        "      - 3차원 텐서 크기 = batch_size, width, height\n",
        "      - 자연어 처리 = batch_size, 문장 길이, 단어 벡터 차원"
      ]
    },
    {
      "cell_type": "code",
      "metadata": {
        "id": "ktKRhQU4_q5-"
      },
      "source": [
        "# 자연어 처리의 예시\n",
        "NLP_data = [[\"나는 사과를 좋아해\"], [\"나는 바나나를 좋아해\"], [\"나는 사과를 싫어해\"], [\"나는 바나나를 싫어해\"]]\n",
        "\n",
        "# 단어 별로 나눠주기 => 4 x 3의 크기를 가지는 2D tensor\n",
        "NLP_data_split = [['나는', '사과를', '좋아해'], ['나는', '바나나를', '좋아해'], ['나는', '사과를', '싫어해'], ['나는', '바나나를', '싫어해']]\n",
        "\n",
        "# 각 단어를 벡터로 만들기 => 4 x 4 x 3의 크기를 가지는 3D tensor\n",
        "## '나는' = [0.1, 0.2, 0.9]\n",
        "## '사과를' = [0.3, 0.5, 0.1]\n",
        "## '바나나를' = [0.3, 0.5, 0.2]\n",
        "## '좋아해' = [0.7, 0.6, 0.5]\n",
        "## '싫어해' = [0.5, 0.6, 0.7]\n",
        "NLP_data_vector = [[[0.1, 0.2, 0.9], [0.3, 0.5, 0.1], [0.7, 0.6, 0.5]],\n",
        "                  [[0.1, 0.2, 0.9], [0.3, 0.5, 0.2], [0.7, 0.6, 0.5]],\n",
        "                  [[0.1, 0.2, 0.9], [0.3, 0.5, 0.1], [0.5, 0.6, 0.7]],\n",
        "                  [[0.1, 0.2, 0.9], [0.3, 0.5, 0.2], [0.5, 0.6, 0.7]]]\n",
        "\n",
        "# batch_size를 2로 => 각 batch의 tensor 크기는 2 x 3 x 3 == (batch_size, 문장 길이, 단어 벡터 차원의 크기)\n",
        "## 첫번째 배치 #1\n",
        "# [[[0.1, 0.2, 0.9], [0.3, 0.5, 0.1], [0.7, 0.6, 0.5]],\n",
        "#  [[0.1, 0.2, 0.9], [0.3, 0.5, 0.2], [0.7, 0.6, 0.5]]]\n",
        "## 두번째 배치 #2\n",
        "# [[[0.1, 0.2, 0.9], [0.3, 0.5, 0.1], [0.5, 0.6, 0.7]],\n",
        "# [[0.1, 0.2, 0.9], [0.3, 0.5, 0.2], [0.5, 0.6, 0.7]]]"
      ],
      "execution_count": null,
      "outputs": []
    },
    {
      "cell_type": "markdown",
      "metadata": {
        "id": "YHxZly8lLQd1"
      },
      "source": [
        "### 2. numpy\n",
        "#### 1) 1차원 텐서인 vector"
      ]
    },
    {
      "cell_type": "code",
      "metadata": {
        "colab": {
          "base_uri": "https://localhost:8080/"
        },
        "id": "6R8fvKtIKvTT",
        "outputId": "3c5a5afa-2a9b-4fe5-8da3-34b1153ce2f3"
      },
      "source": [
        "# 넘파이로 텐서 만들기(벡터와 행렬 만들기)\n",
        "import numpy as np\n",
        "\n",
        "t = np.array([0., 1., 2., 3., 4., 5., 6.])\n",
        "print(t)\n",
        "print('Rank of t: ', t.ndim) # 1차원 텐서인 벡터의 차원\n",
        "print('Shape of t: ', t.shape) # 1차원 텐서인 벡터의 크기\n",
        "\n",
        "# numpy\n",
        "print('t[0] t[1], t[-1] = ', t[0], t[1], t[-1])"
      ],
      "execution_count": null,
      "outputs": [
        {
          "output_type": "stream",
          "name": "stdout",
          "text": [
            "[0. 1. 2. 3. 4. 5. 6.]\n",
            "Rank of t:  1\n",
            "Shape of t:  (7,)\n",
            "t[0] t[1], t[-1] =  0.0 1.0 6.0\n"
          ]
        }
      ]
    },
    {
      "cell_type": "markdown",
      "metadata": {
        "id": "Vq7NrShYLted"
      },
      "source": [
        "#### 2) 2차원 텐서인 행렬"
      ]
    },
    {
      "cell_type": "code",
      "metadata": {
        "colab": {
          "base_uri": "https://localhost:8080/"
        },
        "id": "7jGnpo1rK8bY",
        "outputId": "e36f7723-3881-47d4-942c-611dfa14aec0"
      },
      "source": [
        "t = np.reshape(range(1, 13), (4, 3))\n",
        "print(t)\n",
        "# print('Rank of t: ', t.dim)\n",
        "print('Shape of t: ', t.shape)"
      ],
      "execution_count": null,
      "outputs": [
        {
          "output_type": "stream",
          "name": "stdout",
          "text": [
            "[[ 1  2  3]\n",
            " [ 4  5  6]\n",
            " [ 7  8  9]\n",
            " [10 11 12]]\n",
            "Shape of t:  (4, 3)\n"
          ]
        }
      ]
    },
    {
      "cell_type": "markdown",
      "metadata": {
        "id": "Zah6_bl6Mjhz"
      },
      "source": [
        "#### 3) pytorch tensor"
      ]
    },
    {
      "cell_type": "code",
      "metadata": {
        "colab": {
          "base_uri": "https://localhost:8080/"
        },
        "id": "cutrVdNuL9Zt",
        "outputId": "e0007c06-084b-4f02-9ee3-35c878615b61"
      },
      "source": [
        "import torch\n",
        "\n",
        "# 1차원 tensor\n",
        "t_1 = torch.FloatTensor([0., 1., 2., 3., 4., 5., 6.])\n",
        "print(t_1)\n",
        "print(t_1.dim()) # 차원\n",
        "print(t_1.shape) # shape\n",
        "print(t_1.size()) # shape\n",
        "\n",
        "print(t_1[0], t_1[1], t_1[-1])  # 인덱스로 접근\n",
        "print(t_1[2:5], t_1[4:-1])    # 슬라이싱 - a:b => a부터 b-1까지\n",
        "print(t_1[:2], t_1[3:])       # 슬라이싱"
      ],
      "execution_count": null,
      "outputs": [
        {
          "output_type": "stream",
          "name": "stdout",
          "text": [
            "tensor([0., 1., 2., 3., 4., 5., 6.])\n",
            "1\n",
            "torch.Size([7])\n",
            "torch.Size([7])\n",
            "tensor(0.) tensor(1.) tensor(6.)\n",
            "tensor([2., 3., 4.]) tensor([4., 5.])\n",
            "tensor([0., 1.]) tensor([3., 4., 5., 6.])\n"
          ]
        }
      ]
    },
    {
      "cell_type": "code",
      "metadata": {
        "colab": {
          "base_uri": "https://localhost:8080/"
        },
        "id": "BM0zxDiRM8fa",
        "outputId": "256a6eed-a594-449a-c2cc-7c2c8b917eb9"
      },
      "source": [
        "# 2차원 tensor\n",
        "t_2 = torch.FloatTensor([[1., 2., 3.],\n",
        "                         [4., 5., 6.],\n",
        "                         [7., 8., 9.],\n",
        "                         [10., 11., 12.]])\n",
        "print(t_2)\n",
        "print(t_2.dim()) # 차원\n",
        "print(t_2.shape) # shape\n",
        "print(t_2.size()) # shape\n",
        "\n",
        "print(t_2[:, 1]) # 첫번째 차원을 전체 선택, 두번째 차원에서 1번째 것만 가져옴\n",
        "print(t_2[:, 1].size())\n",
        "\n",
        "print(t_2[:, :-1]) # 첫번째 차원은 전체 선택, 두번째 차원에서 마지막 빼고 전부 가져옴\n",
        "print(t_2[:, :-1].size())"
      ],
      "execution_count": null,
      "outputs": [
        {
          "output_type": "stream",
          "name": "stdout",
          "text": [
            "tensor([[ 1.,  2.,  3.],\n",
            "        [ 4.,  5.,  6.],\n",
            "        [ 7.,  8.,  9.],\n",
            "        [10., 11., 12.]])\n",
            "2\n",
            "torch.Size([4, 3])\n",
            "torch.Size([4, 3])\n",
            "tensor([ 2.,  5.,  8., 11.])\n",
            "torch.Size([4])\n",
            "tensor([[ 1.,  2.],\n",
            "        [ 4.,  5.],\n",
            "        [ 7.,  8.],\n",
            "        [10., 11.]])\n",
            "torch.Size([4, 2])\n"
          ]
        }
      ]
    },
    {
      "cell_type": "markdown",
      "metadata": {
        "id": "w5TbmHbFOlgT"
      },
      "source": [
        "#### 브로드캐스팅 : 크기가 다른 행렬 또는 텐서에 대해서 사칙연산을 수행하는 경우, 자동으로 크기를 맞춰서 연산"
      ]
    },
    {
      "cell_type": "code",
      "metadata": {
        "colab": {
          "base_uri": "https://localhost:8080/"
        },
        "id": "I80QmJCbNuJD",
        "outputId": "cda8c054-7199-4ab1-e269-d4eaa2e93954"
      },
      "source": [
        "# 크기가 같은 텐서에 대해서 사칙연산 수행\n",
        "\n",
        "m1 = torch.FloatTensor([[3, 3]]) # size = (1, 2)\n",
        "m2 = torch.FloatTensor([[2, 2]]) # size = (1, 2)\n",
        "print(m1+m2)"
      ],
      "execution_count": null,
      "outputs": [
        {
          "output_type": "stream",
          "name": "stdout",
          "text": [
            "tensor([[5., 5.]])\n"
          ]
        }
      ]
    },
    {
      "cell_type": "code",
      "metadata": {
        "colab": {
          "base_uri": "https://localhost:8080/"
        },
        "id": "9ndgWFSgOdlZ",
        "outputId": "0b363af2-7cb2-44e3-eef0-87f2fb71d332"
      },
      "source": [
        "# vector + scalar\n",
        "\n",
        "m1 = torch.FloatTensor([[1, 2]]) \n",
        "m2 = torch.FloatTensor([3]) # [3] -> [3, 3]\n",
        "print(m1 + m2)"
      ],
      "execution_count": null,
      "outputs": [
        {
          "output_type": "stream",
          "name": "stdout",
          "text": [
            "tensor([[4., 5.]])\n"
          ]
        }
      ]
    },
    {
      "cell_type": "code",
      "metadata": {
        "colab": {
          "base_uri": "https://localhost:8080/"
        },
        "id": "Dr5d2nuSO4cB",
        "outputId": "117b3fff-1bc2-43de-ab24-bfcf3c38e48e"
      },
      "source": [
        "# 2x1 vector + 1x2 vector\n",
        "m1 = torch.FloatTensor([[1, 2]]) # => [[1, 2], [1, 2]]\n",
        "m2 = torch.FloatTensor([[3], [4]]) # => [[3, 3], [4, 4]]\n",
        "print(m1+m2)"
      ],
      "execution_count": null,
      "outputs": [
        {
          "output_type": "stream",
          "name": "stdout",
          "text": [
            "tensor([[4., 5.],\n",
            "        [5., 6.]])\n"
          ]
        }
      ]
    },
    {
      "cell_type": "markdown",
      "metadata": {
        "id": "u7OfK2hHPViN"
      },
      "source": [
        "#### 자주 사용되는 기능\n",
        "##### 1. 행렬 곱셈과 곱셈의 차이\n",
        "- 파이토치 텐서의 행렬 곱셈은 matmul()을 통해 수행\n",
        "- *, .mul()은 브로드캐스팅 된 곱셈 결과"
      ]
    },
    {
      "cell_type": "code",
      "metadata": {
        "colab": {
          "base_uri": "https://localhost:8080/"
        },
        "id": "OpBBwqQkPE3C",
        "outputId": "03d825db-af2d-46f6-fee5-d110bf3c8fc9"
      },
      "source": [
        "m1 = torch.FloatTensor([[1, 2], [3, 4]])\n",
        "m2 = torch.FloatTensor([[1], [2]])\n",
        "print('Shape of Matrix 1: ', m1.shape)\n",
        "print('Shape of Matrix 2: ', m2. shape)\n",
        "print(m1.matmul(m2))\n",
        "print(m1 * m2) # 브로드캐스팅 되어서 곱해짐 m2 => [[1, 1], [2, 2]]\n",
        "print(m1.mul(m2))"
      ],
      "execution_count": null,
      "outputs": [
        {
          "output_type": "stream",
          "name": "stdout",
          "text": [
            "Shape of Matrix 1:  torch.Size([2, 2])\n",
            "Shape of Matrix 2:  torch.Size([2, 1])\n",
            "tensor([[ 5.],\n",
            "        [11.]])\n",
            "tensor([[1., 2.],\n",
            "        [6., 8.]])\n",
            "tensor([[1., 2.],\n",
            "        [6., 8.]])\n"
          ]
        }
      ]
    },
    {
      "cell_type": "markdown",
      "metadata": {
        "id": "FnRzqJGTQLd4"
      },
      "source": [
        "##### 2. 평균 :: .mean(dim = )"
      ]
    },
    {
      "cell_type": "code",
      "metadata": {
        "colab": {
          "base_uri": "https://localhost:8080/"
        },
        "id": "UvRCT0TsP9Ay",
        "outputId": "97b5b19d-36a6-4d0b-f177-7b208723dc51"
      },
      "source": [
        "print(m1)\n",
        "print(m1.mean())\n",
        "\n",
        "print(m1.mean(dim = 0)) # 첫번째 차원을 제거한 후 나머지에서 평균 (1, 3의 평균 / 2, 4의 평균)\n",
        "print(m1.mean(dim = 1)) # 두번째 차원을 제거한 후 나머지에서 평균 (1, 2의 평균 / 3, 4의 평균)\n",
        "print(m1.mean(dim = -1)) # 마지막 차원을 제거 == 열의 차원을 제거"
      ],
      "execution_count": null,
      "outputs": [
        {
          "output_type": "stream",
          "name": "stdout",
          "text": [
            "tensor([[1., 2.],\n",
            "        [3., 4.]])\n",
            "tensor(2.5000)\n",
            "tensor([2., 3.])\n",
            "tensor([1.5000, 3.5000])\n",
            "tensor([1.5000, 3.5000])\n"
          ]
        }
      ]
    },
    {
      "cell_type": "markdown",
      "metadata": {
        "id": "_JrBUV37Q0Ee"
      },
      "source": [
        "##### 3) 덧셈 :: .sum(dim=)"
      ]
    },
    {
      "cell_type": "code",
      "metadata": {
        "colab": {
          "base_uri": "https://localhost:8080/"
        },
        "id": "xvPa54hQQRGH",
        "outputId": "e543a0e9-2f1d-4a9c-cc34-908361c67787"
      },
      "source": [
        "print(m1)\n",
        "print(m1.sum()) # 원소 전체에 대한 덧셈\n",
        "print(m1.sum(dim = 0)) # 행을 제거\n",
        "print(m1.sum(dim = 1)) # 열을 제거\n",
        "print(m1.sum(dim = -1)) # 마지막 차원을 제거 == 열을 제거"
      ],
      "execution_count": null,
      "outputs": [
        {
          "output_type": "stream",
          "name": "stdout",
          "text": [
            "tensor([[1., 2.],\n",
            "        [3., 4.]])\n",
            "tensor(10.)\n",
            "tensor([4., 6.])\n",
            "tensor([3., 7.])\n",
            "tensor([3., 7.])\n"
          ]
        }
      ]
    },
    {
      "cell_type": "markdown",
      "metadata": {
        "id": "vFIw1JLvRKBm"
      },
      "source": [
        "##### 4) Max, ArgMax\n",
        "- Max : 원소의 최대값\n",
        "- ArgMax : 최대값을 가진 인덱스"
      ]
    },
    {
      "cell_type": "code",
      "metadata": {
        "colab": {
          "base_uri": "https://localhost:8080/"
        },
        "id": "kXauMlDbQ8XH",
        "outputId": "3dfbeefd-1d80-43c2-c729-92626bbdcaa3"
      },
      "source": [
        "print(m1)\n",
        "\n",
        "print(m1.max())\n",
        "\n",
        "print(m1.max(dim=0)) # argmax도 함께 return :: 행 제거 => (1, 2) 텐서를 생성\n",
        "# 첫번째 열에서 3의 인덱스는 1이었습니다. 두번째 열에서 4의 인덱스는 1이었습니다. 그러므로 [1, 1]이 리턴됩니다.\n",
        "print('Max: ', m1.max(dim=0)[0])\n",
        "print('Argmax: ', m1.max(dim=0)[1])\n",
        "\n",
        "print(m1.max(dim=1)) # 열 제거 => (2, 1) 텐서 생성\n",
        "print(m1.max(dim=-1))"
      ],
      "execution_count": null,
      "outputs": [
        {
          "output_type": "stream",
          "name": "stdout",
          "text": [
            "tensor([[1., 2.],\n",
            "        [3., 4.]])\n",
            "tensor(4.)\n",
            "torch.return_types.max(\n",
            "values=tensor([3., 4.]),\n",
            "indices=tensor([1, 1]))\n",
            "Max:  tensor([3., 4.])\n",
            "Argmax:  tensor([1, 1])\n",
            "torch.return_types.max(\n",
            "values=tensor([2., 4.]),\n",
            "indices=tensor([1, 1]))\n",
            "torch.return_types.max(\n",
            "values=tensor([2., 4.]),\n",
            "indices=tensor([1, 1]))\n"
          ]
        }
      ]
    },
    {
      "cell_type": "markdown",
      "metadata": {
        "id": "ugy-IBquSgXF"
      },
      "source": [
        "# 2-3. 텐서 조작하기(Tensor Manipulation) 2\n",
        "##### 4) 뷰(view) - 원소의 수를 유지하면서 텐서의 크기 변경\n",
        "- 뷰(view)는 numpy에서 reshape와 같은 역할\n",
        "- .view([])\n",
        "###### 4-1) 3차원 텐서에서 2차원 텐서로 변경"
      ]
    },
    {
      "cell_type": "code",
      "metadata": {
        "colab": {
          "base_uri": "https://localhost:8080/"
        },
        "id": "fmvUhv_aRaNA",
        "outputId": "ec0179eb-d4ab-4036-a807-741698864bdc"
      },
      "source": [
        "t = np.array([[[0, 1, 2],\n",
        "               [3, 4, 5]],\n",
        "              [[6, 7, 8],\n",
        "               [9, 10, 11]]])\n",
        "ft = torch.FloatTensor(t)\n",
        "\n",
        "print(ft.shape) # 2 x 2 x 3 인 3차원 텐서"
      ],
      "execution_count": null,
      "outputs": [
        {
          "output_type": "stream",
          "name": "stdout",
          "text": [
            "torch.Size([2, 2, 3])\n"
          ]
        }
      ]
    },
    {
      "cell_type": "code",
      "metadata": {
        "colab": {
          "base_uri": "https://localhost:8080/"
        },
        "id": "KIj9bITuTAsm",
        "outputId": "eeed8f4a-6524-4233-fc11-c7a6ce0e41ee"
      },
      "source": [
        "print(ft.view([-1, 3])) # -1: 첫번째 차원은 잘 모르겠음. 두번째 차원은 3으로 \n",
        "print(ft.view([-1, 3]).shape) # :: 3차원 텐서를 2차원으로 변경하되 (?, 3)의 크기로 변환\n",
        "\n",
        "## (2, 2, 3) -> (2 x 2, 3) -> (4, 3)"
      ],
      "execution_count": null,
      "outputs": [
        {
          "output_type": "stream",
          "name": "stdout",
          "text": [
            "tensor([[ 0.,  1.,  2.],\n",
            "        [ 3.,  4.,  5.],\n",
            "        [ 6.,  7.,  8.],\n",
            "        [ 9., 10., 11.]])\n",
            "torch.Size([4, 3])\n"
          ]
        }
      ]
    },
    {
      "cell_type": "markdown",
      "metadata": {
        "id": "Tm0JOKoWTk-_"
      },
      "source": [
        "##### 3차원 텐서의 크기 변경\n",
        "- 3차원 텐서에서 차원은 유지하되, 크기를 바꾸는 작업"
      ]
    },
    {
      "cell_type": "code",
      "metadata": {
        "colab": {
          "base_uri": "https://localhost:8080/"
        },
        "id": "FfU9t-SjTPn0",
        "outputId": "1aee18fc-1ebd-437f-cac7-bd74fa91642f"
      },
      "source": [
        "print(ft.view([-1, 1, 3]))\n",
        "print(ft.view([-1, 1, 3]).shape)"
      ],
      "execution_count": null,
      "outputs": [
        {
          "output_type": "stream",
          "name": "stdout",
          "text": [
            "tensor([[[ 0.,  1.,  2.]],\n",
            "\n",
            "        [[ 3.,  4.,  5.]],\n",
            "\n",
            "        [[ 6.,  7.,  8.]],\n",
            "\n",
            "        [[ 9., 10., 11.]]])\n",
            "torch.Size([4, 1, 3])\n"
          ]
        }
      ]
    },
    {
      "cell_type": "markdown",
      "metadata": {
        "id": "Hd1mG4KQrOp0"
      },
      "source": [
        "##### 5) squeeze : 1인 차원을 제거\n",
        "- .squeeze()"
      ]
    },
    {
      "cell_type": "code",
      "metadata": {
        "colab": {
          "base_uri": "https://localhost:8080/"
        },
        "id": "YGlYKZkZq8bW",
        "outputId": "e4d126c6-671f-408f-b79f-f247dbed59a6"
      },
      "source": [
        "ft = torch.FloatTensor([[0], [1], [2]])\n",
        "print(ft)\n",
        "print(ft.shape)\n",
        "\n",
        "print(ft.squeeze())\n",
        "print(ft.squeeze().shape)"
      ],
      "execution_count": null,
      "outputs": [
        {
          "output_type": "stream",
          "name": "stdout",
          "text": [
            "tensor([[0.],\n",
            "        [1.],\n",
            "        [2.]])\n",
            "torch.Size([3, 1])\n",
            "tensor([0., 1., 2.])\n",
            "torch.Size([3])\n"
          ]
        }
      ]
    },
    {
      "cell_type": "markdown",
      "metadata": {
        "id": "uGiBkkkXrjDc"
      },
      "source": [
        "##### 6) Unsqueeze : 특정 위치에 1인 차원을 추가\n",
        "- .unsqueeze()"
      ]
    },
    {
      "cell_type": "code",
      "metadata": {
        "colab": {
          "base_uri": "https://localhost:8080/"
        },
        "id": "xkTJWnnDrgSs",
        "outputId": "31e00680-a73d-457d-9c6d-24d4491095f5"
      },
      "source": [
        "ft = torch.Tensor([0, 1, 2])\n",
        "print(ft.shape)\n",
        "\n",
        "print(ft.unsqueeze(0)) # 0 : 첫번째 차원 => (1, 3)\n",
        "print(ft.unsqueeze(0).shape)"
      ],
      "execution_count": null,
      "outputs": [
        {
          "output_type": "stream",
          "name": "stdout",
          "text": [
            "torch.Size([3])\n",
            "tensor([[0., 1., 2.]])\n",
            "torch.Size([1, 3])\n"
          ]
        }
      ]
    },
    {
      "cell_type": "code",
      "metadata": {
        "colab": {
          "base_uri": "https://localhost:8080/"
        },
        "id": "fchODQJGryiQ",
        "outputId": "18439b12-62ee-480b-bdb4-e04df6365eb3"
      },
      "source": [
        "# unsqueeze와 view가 동일한 결과를 만들어내는 예시\n",
        "print(ft.view(1, -1))\n",
        "print(ft.view(1, -1).shape)"
      ],
      "execution_count": null,
      "outputs": [
        {
          "output_type": "stream",
          "name": "stdout",
          "text": [
            "tensor([[0., 1., 2.]])\n",
            "torch.Size([1, 3])\n"
          ]
        }
      ]
    },
    {
      "cell_type": "code",
      "metadata": {
        "colab": {
          "base_uri": "https://localhost:8080/"
        },
        "id": "Ent_yJ5sr8TA",
        "outputId": "73a53d78-b955-48e4-c8ad-2d631038d840"
      },
      "source": [
        "print(ft.unsqueeze(1)) # 두번째 차원에 1을 추가 => (3, 1)\n",
        "print(ft.unsqueeze(1).shape)\n",
        "\n",
        "print(ft.unsqueeze(-1))\n",
        "print(ft.unsqueeze(-1).shape)"
      ],
      "execution_count": null,
      "outputs": [
        {
          "output_type": "stream",
          "name": "stdout",
          "text": [
            "tensor([[0.],\n",
            "        [1.],\n",
            "        [2.]])\n",
            "torch.Size([3, 1])\n",
            "tensor([[0.],\n",
            "        [1.],\n",
            "        [2.]])\n",
            "torch.Size([3, 1])\n"
          ]
        }
      ]
    },
    {
      "cell_type": "markdown",
      "metadata": {
        "id": "CeVFrLvhsW9R"
      },
      "source": [
        "##### 7) 타입 캐스팅\n",
        "- 자료형을 변환하는 것\n",
        "- ex) 32비트 부동소수점 torch.FloatTensor\n",
        "- ex) 64비트 부동소수점 torch.LongTensor\n",
        "- ex) GPU를 위한 연산 자료형 torch.cuda.FloatTensor"
      ]
    },
    {
      "cell_type": "code",
      "metadata": {
        "colab": {
          "base_uri": "https://localhost:8080/"
        },
        "id": "nNo0oUJ8sQOU",
        "outputId": "5aa9211a-52a3-4a9b-a1d3-846ec8282867"
      },
      "source": [
        "# long타입의 tensor\n",
        "lt = torch.LongTensor([1, 2, 3, 4])\n",
        "print(lt)\n",
        "\n",
        "# tensor에 .float()을 붙이면 바로 float형으로 변환\n",
        "print(lt.float()) "
      ],
      "execution_count": null,
      "outputs": [
        {
          "output_type": "stream",
          "name": "stdout",
          "text": [
            "tensor([1, 2, 3, 4])\n",
            "tensor([1., 2., 3., 4.])\n"
          ]
        }
      ]
    },
    {
      "cell_type": "code",
      "metadata": {
        "colab": {
          "base_uri": "https://localhost:8080/"
        },
        "id": "K3amGwAjszD0",
        "outputId": "58a96c12-2a4c-42c1-807e-c7e7e1402c42"
      },
      "source": [
        "# byte타입의 tensor\n",
        "bt = torch.ByteTensor([True, False, False, True])\n",
        "print(bt)\n",
        "\n",
        "# tensor에 .long()을 붙이면 long타입의 텐서로 변환\n",
        "print(bt.long())\n",
        "# tensor에 .float()을 붙이면 float타입의 텐서로 변환\n",
        "print(bt.float())"
      ],
      "execution_count": null,
      "outputs": [
        {
          "output_type": "stream",
          "name": "stdout",
          "text": [
            "tensor([1, 0, 0, 1], dtype=torch.uint8)\n",
            "tensor([1, 0, 0, 1])\n",
            "tensor([1., 0., 0., 1.])\n"
          ]
        }
      ]
    },
    {
      "cell_type": "markdown",
      "metadata": {
        "id": "v5hU1H08tLa7"
      },
      "source": [
        "##### 8) 연결(concatenate)\n",
        "- 두 텐서를 연결하는 방법 :: torch.cat([], dim=)"
      ]
    },
    {
      "cell_type": "code",
      "metadata": {
        "colab": {
          "base_uri": "https://localhost:8080/"
        },
        "id": "XjqI1MvxtKis",
        "outputId": "f47388d3-d1b1-4488-dbf9-b6d045717c1b"
      },
      "source": [
        "x = torch.FloatTensor([[1, 2], [3, 4]])\n",
        "y = torch.FloatTensor([[5, 6], [7, 8]])\n",
        "\n",
        "print(torch.cat([x, y], dim = 0)) # dim = 0 :: 첫번째 차원을 늘리기 => (4 x 2)\n",
        "print(torch.cat([x, y], dim = 1)) # dim = 1 :: 두번째 차원을 늘리기 => (2 x 4)"
      ],
      "execution_count": null,
      "outputs": [
        {
          "output_type": "stream",
          "name": "stdout",
          "text": [
            "tensor([[1., 2.],\n",
            "        [3., 4.],\n",
            "        [5., 6.],\n",
            "        [7., 8.]])\n",
            "tensor([[1., 2., 5., 6.],\n",
            "        [3., 4., 7., 8.]])\n"
          ]
        }
      ]
    },
    {
      "cell_type": "markdown",
      "metadata": {
        "id": "EPDmrbAytvYd"
      },
      "source": [
        "##### 9) stacking\n",
        "- concat과 같이 쌓는다는 의미 :: torch.stack([], dim = )"
      ]
    },
    {
      "cell_type": "code",
      "metadata": {
        "colab": {
          "base_uri": "https://localhost:8080/"
        },
        "id": "bXIe7UZbtq4e",
        "outputId": "986fbf27-9a05-4852-f614-803a1c6dff87"
      },
      "source": [
        "x = torch.FloatTensor([1, 4])\n",
        "y = torch.FloatTensor([2, 5])\n",
        "z = torch.FloatTensor([3, 6])\n",
        "\n",
        "print(torch.stack([x, y, z])) # 3개의 벡터가 순차적으로 쌓여 3 x 2가 됨 - 위로 쌓아진 형태\n",
        "# print(torch.cat([x.unsqueeze(0), y.unsqqueeze(0), z.unsqueeze(0)], dim = 0))\n",
        "# unsqueeze(0)을 함으로써 (2,)크기가 (1, 2)크기의 2차원 텐서로 변경\n",
        "\n",
        "print(torch.stack([x, y, z], dim = 1)) # 두번째 차원이 증가하도록 :: 2 x 3 텐서가 됨 - 옆으로 쌓아진 형태"
      ],
      "execution_count": null,
      "outputs": [
        {
          "output_type": "stream",
          "name": "stdout",
          "text": [
            "tensor([[1., 4.],\n",
            "        [2., 5.],\n",
            "        [3., 6.]])\n",
            "tensor([[1., 2., 3.],\n",
            "        [4., 5., 6.]])\n"
          ]
        }
      ]
    },
    {
      "cell_type": "markdown",
      "metadata": {
        "id": "wexZq8XOu1j8"
      },
      "source": [
        "##### 10) ones_like, zeros_like\n",
        "- ones_like : 0으로 채워진 텐서\n",
        "  - torch.ones_like()\n",
        "- zeros_like : 1로 채워진 텐서\n",
        "  - torch.zeros_like()"
      ]
    },
    {
      "cell_type": "code",
      "metadata": {
        "colab": {
          "base_uri": "https://localhost:8080/"
        },
        "id": "IQUgQjnWuIYm",
        "outputId": "c6894a6f-fb2a-4c7e-f33c-e096224490d5"
      },
      "source": [
        "x = torch.FloatTensor([[0, 1, 2], [2, 1, 0]])\n",
        "print(x)\n",
        "\n",
        "print(torch.ones_like(x))\n",
        "print(torch.zeros_like(x))"
      ],
      "execution_count": null,
      "outputs": [
        {
          "output_type": "stream",
          "name": "stdout",
          "text": [
            "tensor([[0., 1., 2.],\n",
            "        [2., 1., 0.]])\n",
            "tensor([[1., 1., 1.],\n",
            "        [1., 1., 1.]])\n",
            "tensor([[0., 0., 0.],\n",
            "        [0., 0., 0.]])\n"
          ]
        }
      ]
    },
    {
      "cell_type": "markdown",
      "metadata": {
        "id": "9sSpJHPKvKef"
      },
      "source": [
        "##### 11) In-place Operation (덮어쓰기 연산)\n",
        "  - .mul_()"
      ]
    },
    {
      "cell_type": "code",
      "metadata": {
        "colab": {
          "base_uri": "https://localhost:8080/"
        },
        "id": "LSL9RbVTvIVO",
        "outputId": "02387db0-29da-43ee-c250-bcf80dfd6d84"
      },
      "source": [
        "x = torch.FloatTensor([[1, 2], [3, 4]]) # 2 x 2 tensor\n",
        "print(x.mul(2.)) # 2를 곱한 결과\n",
        "print(x) # 2를 곱했어도 저장되지는 않았음\n",
        "\n",
        "print(x.mul_(2.)) # 결과를 덮어쓰기\n",
        "print(x)"
      ],
      "execution_count": null,
      "outputs": [
        {
          "output_type": "stream",
          "name": "stdout",
          "text": [
            "tensor([[2., 4.],\n",
            "        [6., 8.]])\n",
            "tensor([[1., 2.],\n",
            "        [3., 4.]])\n",
            "tensor([[2., 4.],\n",
            "        [6., 8.]])\n",
            "tensor([[2., 4.],\n",
            "        [6., 8.]])\n"
          ]
        }
      ]
    },
    {
      "cell_type": "markdown",
      "metadata": {
        "id": "L9LIFw4mweyr"
      },
      "source": [
        "# 2-4. 파이썬 클래스(class)\n",
        "##### 1) 함수(function)과 클래스(class) 차이"
      ]
    },
    {
      "cell_type": "code",
      "metadata": {
        "colab": {
          "base_uri": "https://localhost:8080/"
        },
        "id": "ZHgPCtovvWnE",
        "outputId": "2c0318c4-76e5-4985-ae9f-14d0f8bde8cd"
      },
      "source": [
        "# 함수로 덧셈기 구현\n",
        "result = 0\n",
        "\n",
        "def add(num):\n",
        "  global result # 기존의 result에 함수의 인자로 온 num을 더하고 return\n",
        "  result += num\n",
        "  return result\n",
        "\n",
        "print(add(3)) # 0 + 3\n",
        "print(add(4)) # 3 + 4"
      ],
      "execution_count": null,
      "outputs": [
        {
          "output_type": "stream",
          "name": "stdout",
          "text": [
            "3\n",
            "7\n"
          ]
        }
      ]
    },
    {
      "cell_type": "code",
      "metadata": {
        "colab": {
          "base_uri": "https://localhost:8080/"
        },
        "id": "3Mgqvoxjw-5m",
        "outputId": "15f75aa9-df3f-4ab1-acf1-1699c4ae59f1"
      },
      "source": [
        "# 함수로 두 개의 덧셈기 구현\n",
        "## 독립적인 두 개의 덧셈기를 구현. 하나의 함수는 한 개의 독립적인 덧셈기 이기 때문에 2개의 함수를 만들어야 함\n",
        "\n",
        "result1 = 0\n",
        "result2 = 0\n",
        "\n",
        "def add1(num):\n",
        "  global result1\n",
        "  result1 += num\n",
        "  return result1\n",
        "\n",
        "def add2(num):\n",
        "  global result2\n",
        "  result2 += num\n",
        "  return result2\n",
        "\n",
        "\n",
        "print(add1(3))\n",
        "print(add1(4))\n",
        "print(add2(3))\n",
        "print(add2(7))\n",
        "\n",
        "# 서로의 값에 영향을 미치지 않고 다른 연산을 수행하고 있음"
      ],
      "execution_count": null,
      "outputs": [
        {
          "output_type": "stream",
          "name": "stdout",
          "text": [
            "3\n",
            "7\n",
            "3\n",
            "10\n"
          ]
        }
      ]
    },
    {
      "cell_type": "markdown",
      "metadata": {
        "id": "o-Mts1PhyBKa"
      },
      "source": [
        "함수가 하나의 기계라면, class는 기계를 생산해 내는 틀 느낌\n",
        "- 함수 : 빵\n",
        "- class : 빵틀"
      ]
    },
    {
      "cell_type": "code",
      "metadata": {
        "id": "LYQXuN4MxeMG"
      },
      "source": [
        "# class로 덧셈기 구현\n",
        "\n",
        "class Calculator:\n",
        "  def __init__(self): # 객체를 생성할 시 호출될 때 실행되는 초기화 함수 => 생성자라고 함\n",
        "    self.result = 0\n",
        "  \n",
        "  def add(self, num): # 객체 생성 후 사용할 수 있는 함수\n",
        "    self.result += num\n",
        "    return self.result"
      ],
      "execution_count": null,
      "outputs": []
    },
    {
      "cell_type": "code",
      "metadata": {
        "colab": {
          "base_uri": "https://localhost:8080/"
        },
        "id": "be5PKAswx5x6",
        "outputId": "56cbbcaf-c298-44e2-b16c-f453e427b780"
      },
      "source": [
        "cal1 = Calculator()\n",
        "cal2 = Calculator()\n",
        "\n",
        "print(cal1.add(3))\n",
        "print(cal1.add(4))\n",
        "print(cal2.add(3))\n",
        "print(cal2.add(7))"
      ],
      "execution_count": null,
      "outputs": [
        {
          "output_type": "stream",
          "name": "stdout",
          "text": [
            "3\n",
            "7\n",
            "3\n",
            "10\n"
          ]
        }
      ]
    },
    {
      "cell_type": "code",
      "metadata": {
        "id": "2tALGdBzySOC"
      },
      "source": [
        ""
      ],
      "execution_count": null,
      "outputs": []
    }
  ]
}